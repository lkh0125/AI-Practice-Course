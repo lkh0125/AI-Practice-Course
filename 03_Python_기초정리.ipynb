{
 "cells": [
  {
   "cell_type": "markdown",
   "id": "905724f6-387b-423e-a479-102b5831df79",
   "metadata": {},
   "source": [
    "# Python 기초정리"
   ]
  },
  {
   "cell_type": "markdown",
   "id": "803683a4-9133-4920-9d4f-1c4746b1be49",
   "metadata": {},
   "source": [
    "## dir, help"
   ]
  },
  {
   "cell_type": "code",
   "execution_count": 3,
   "id": "2fcf20c0-d9f8-46cb-89eb-6cfe389bc8b0",
   "metadata": {},
   "outputs": [
    {
     "data": {
      "text/plain": [
       "'D:\\\\학습'"
      ]
     },
     "execution_count": 3,
     "metadata": {},
     "output_type": "execute_result"
    }
   ],
   "source": [
    "# 워킹 디렉토리 확인 \n",
    "import os\n",
    "os.getcwd()"
   ]
  },
  {
   "cell_type": "code",
   "execution_count": 4,
   "id": "30a4ba0f-011c-460b-9c64-e1471ef991b9",
   "metadata": {},
   "outputs": [
    {
     "name": "stdin",
     "output_type": "stream",
     "text": [
      "Once deleted, variables cannot be recovered. Proceed (y/[n])?  y\n"
     ]
    }
   ],
   "source": [
    "# 메모리 리셋\n",
    "%reset"
   ]
  },
  {
   "cell_type": "code",
   "execution_count": 8,
   "id": "a80d42d8-ecbb-4c54-a451-6be6d5cbc6db",
   "metadata": {},
   "outputs": [],
   "source": [
    "import pandas as pd\n",
    "# 객체 속성 및 메소드 정보 확인\n",
    "# dir(pd)\n",
    "# help(int)"
   ]
  },
  {
   "cell_type": "code",
   "execution_count": 9,
   "id": "c1c91016-8a81-45cb-8728-5051322a1d15",
   "metadata": {},
   "outputs": [
    {
     "name": "stdout",
     "output_type": "stream",
     "text": [
      "Help on built-in function upper:\n",
      "\n",
      "upper() method of builtins.str instance\n",
      "    Return a copy of the string converted to uppercase.\n",
      "\n"
     ]
    }
   ],
   "source": [
    "# 도움말 찾기\n",
    "a = 'string' # a라는 변수에 string을 입력\n",
    "dir(a) # a라는(문자열) 변수에 쓸 수 있는 method 조회\n",
    "help(a.upper) # a 변수에 upper method 설명"
   ]
  },
  {
   "cell_type": "markdown",
   "id": "627a5f63-60c1-4922-96b2-5411007ccca8",
   "metadata": {},
   "source": [
    "# 기본 분석 환경 세팅"
   ]
  },
  {
   "cell_type": "code",
   "execution_count": 10,
   "id": "d1812442-fc2b-4f74-934a-36b9ab4c314f",
   "metadata": {},
   "outputs": [],
   "source": [
    "import pandas as pd\n",
    "import numpy as np\n",
    "import seaborn as sns\n",
    "import matplotlib.pyplot as plt\n",
    "\n",
    "# print를 하지 않아도 행을 모두 보여줌\n",
    "from IPython.core.interactiveshell import InteractiveShell\n",
    "InteractiveShell.ast_node_interactivity = \"all\"\n",
    "\n",
    "# Columns를 생략 없이 모두 보여줌\n",
    "from IPython.display import display\n",
    "pd.options.display.max_columns = None"
   ]
  },
  {
   "cell_type": "code",
   "execution_count": 11,
   "id": "9691e17d-589f-499c-b98c-e7484a8fd269",
   "metadata": {},
   "outputs": [],
   "source": [
    "# 한글 표기\n",
    "import matplotlib.pyplot as plt\n",
    "%matplotlib inline\n",
    "import platform\n",
    "\n",
    "from matplotlib import font_manager, rc\n",
    "plt.rcParams['axes.unicode_minus'] = False\n",
    "\n",
    "if platform.system() == 'Darwin':\n",
    "    rc('font', family='AppleGothc')\n",
    "elif platform.system() == 'Windows':\n",
    "    path=\"c:/Windows/Fonts/malgun.ttf\"\n",
    "    font_name=font_manager.FontProperties(fname=path).get_name()\n",
    "    rc('font', family=font_name)\n",
    "else:\n",
    "    print('Unknown system')"
   ]
  },
  {
   "cell_type": "markdown",
   "id": "45500060-5938-4862-833a-fc90c82285a3",
   "metadata": {},
   "source": [
    "# 파일읽기"
   ]
  },
  {
   "cell_type": "markdown",
   "id": "034645dc-6cff-465f-b7eb-58a63d74ae78",
   "metadata": {},
   "source": [
    "## CSV, TSV, TXT : pandas read_csv"
   ]
  },
  {
   "cell_type": "code",
   "execution_count": 13,
   "id": "e8ccd5d6-11b0-4cc5-bad8-e4e30de78183",
   "metadata": {},
   "outputs": [],
   "source": [
    "# csv read\n",
    "pd.read_csv('경로/파일이름.csv', encoding = 'cp949') \n",
    "## Parameters\n",
    "# header = True  : 변수명 있을 시 불러옴\n",
    "# names = [ , , , , ] : 변수명 직접 추가\n",
    "# encoding : utf-8, cp949, euc-kr\n",
    "# sep = ','\n",
    "# 경우에 따라 engine = 'python'\n",
    "# skipinitialspace = True : 구분자 양쪽 공백 제거\n",
    "\n",
    "# tsv read\n",
    "pd.read_csv(\"train.tsv\", delimiter='\\t')\n",
    "\n",
    "# csv write\n",
    "df.to_csv('./data/df.csv', header = True, index = False, encoding = 'cp949')"
   ]
  },
  {
   "cell_type": "markdown",
   "id": "c7596450-cba1-4f5d-a3b8-d2c9d617cf4c",
   "metadata": {},
   "source": [
    "## read_csv 안 먹히는 경우! Open으로 열어보기"
   ]
  },
  {
   "cell_type": "markdown",
   "id": "987f0f30-f6a3-415c-b06e-5842d0ade1b2",
   "metadata": {},
   "source": [
    "- 02_File_Open_Practice 참고"
   ]
  },
  {
   "cell_type": "markdown",
   "id": "6c458dec-3dc6-4ad9-9339-ebaa4ff4bb1e",
   "metadata": {},
   "source": [
    "## xlsx : pandas read_excel"
   ]
  },
  {
   "cell_type": "code",
   "execution_count": 15,
   "id": "5cae5622-0a0f-4c30-b7f9-b2e359913b08",
   "metadata": {},
   "outputs": [],
   "source": [
    "# xlsx read\n",
    "pd.read_excel('파일이름.xlsx', sheet_name = 'Sheet1', header = 0)\n",
    "\n",
    "#xlsx write\n",
    "df.to_excel('파일이름.xlsx', sheet_name = 'Sheet1')"
   ]
  },
  {
   "cell_type": "markdown",
   "id": "ab8c3572-9f4f-427a-a3c4-5c50e125ce08",
   "metadata": {},
   "source": [
    "## 확장자가 h5인 파일 열기 : 시계열 데이터일 수 있음"
   ]
  },
  {
   "cell_type": "code",
   "execution_count": null,
   "id": "5c07760e-1ea1-4a84-8b97-049998580379",
   "metadata": {},
   "outputs": [],
   "source": [
    "#read_hdf\n",
    "pd.read_hdf('파일이름.h5', key='기준컬럼').set_index('날짜형식_컬럼').sort_index()"
   ]
  },
  {
   "cell_type": "markdown",
   "id": "48e814dc-a18d-4bb8-a1da-7fe3022ed83a",
   "metadata": {},
   "source": [
    "## 기본 Open"
   ]
  },
  {
   "cell_type": "code",
   "execution_count": null,
   "id": "e650c973-cb63-4a63-9ed8-580b9c6ea259",
   "metadata": {},
   "outputs": [],
   "source": [
    "# 읽기\n",
    "f = open('ABBA.txt','r')\n",
    "data = f.read()\n",
    "f.close()\n",
    "\n",
    "# 쓰기\n",
    "f = open('ABBA-copy.txt','w')\n",
    "f.write(data)\n",
    "f.close()"
   ]
  },
  {
   "cell_type": "markdown",
   "id": "7ad9d57d-2a39-4530-969f-52e5bae44f6b",
   "metadata": {},
   "source": [
    "## Pickle 활용"
   ]
  },
  {
   "cell_type": "code",
   "execution_count": null,
   "id": "a9104310-fdd6-41b6-bfdd-5a025e949309",
   "metadata": {},
   "outputs": [],
   "source": [
    "import pickle\n",
    "# Dump(저장)\n",
    "\n",
    "data = ['a','b','c']\n",
    "with open('list.txt', 'wb') as f:\n",
    "    pickle.dump(data, f)\n",
    "    \n",
    "    \n",
    "# Load(불러오기)\n",
    "with open('list.txt', 'rb') as f:\n",
    "    data = pickle.load(f) # 단 한줄씩 읽어옴\n",
    "    \n",
    "data"
   ]
  },
  {
   "cell_type": "markdown",
   "id": "95758321-d264-45e2-8682-0998b2116e67",
   "metadata": {},
   "source": [
    "## numpy"
   ]
  },
  {
   "cell_type": "markdown",
   "id": "6625b91c-d438-4810-a533-19b8550292f9",
   "metadata": {},
   "source": [
    "### 생성"
   ]
  },
  {
   "cell_type": "code",
   "execution_count": null,
   "id": "b67ef925-5f71-4c38-a6a5-2163e5580386",
   "metadata": {},
   "outputs": [],
   "source": [
    "import numpy as np\n",
    "# array 생성 \n",
    "a = np.array([1,2,3,4]); print('a',a)\n",
    "\n",
    "# array 생성의 여러 예\n",
    "b = np.zeros((3,3)) ; print('b', b)\n",
    "c = np.ones((3,4)) ; print('c', c)\n",
    "d = np.full((2,2),7) ; print('d',d) # 특별 값으로 채우기\n",
    "e = np.eye(3,3) ; print('e',e) # 단위행렬\n",
    "f = np.random.random((2,2)) ; print('f',f) # 랜덤\n",
    "g = np.arange(5); print('g', g)"
   ]
  },
  {
   "cell_type": "markdown",
   "id": "0012b54a-f080-4118-aeb8-5f0344593eca",
   "metadata": {},
   "source": [
    "### reshape"
   ]
  },
  {
   "cell_type": "code",
   "execution_count": 38,
   "id": "8d799120-aee0-4e5d-8ad1-c8a36516fa45",
   "metadata": {},
   "outputs": [
    {
     "name": "stdout",
     "output_type": "stream",
     "text": [
      "a [[1 2 3]\n",
      " [4 5 6]]\n",
      "a [[1 2]\n",
      " [3 4]\n",
      " [5 6]]\n",
      "a [[1]\n",
      " [2]\n",
      " [3]\n",
      " [4]\n",
      " [5]\n",
      " [6]]\n"
     ]
    }
   ],
   "source": [
    "import numpy as np\n",
    "\n",
    "a = np.array([[1,2,3],[4,5,6]]) ; print('a',a) # array 생성\n",
    "a = a.reshape(3, 2) ; print('a', a) # reshape\n",
    "a = a.reshape(6,-1) ; print('a', a)"
   ]
  },
  {
   "cell_type": "markdown",
   "id": "cdd701c6-22a7-4d67-be17-303fa1801fef",
   "metadata": {},
   "source": [
    "### slice"
   ]
  },
  {
   "cell_type": "code",
   "execution_count": null,
   "id": "122dabfe-da02-4180-b878-73eff0f5ca74",
   "metadata": {},
   "outputs": [],
   "source": [
    "print( d[0,:] ) # 정수 슬라이싱 --> 배열 차원 감소\n",
    "print( d[0:1,:] ) # 그냥 슬라이싱 --> 배열 차원 유지\n",
    "d.copy() # 배열 복사"
   ]
  },
  {
   "cell_type": "markdown",
   "id": "fe43c183-2dce-4a46-8195-8a6050b7861f",
   "metadata": {},
   "source": [
    "### 숫자 다루기"
   ]
  },
  {
   "cell_type": "code",
   "execution_count": 5,
   "id": "e01637a8-3903-4dda-90e1-86ef4c46998d",
   "metadata": {},
   "outputs": [
    {
     "data": {
      "text/plain": [
       "array([3., 2., 3.])"
      ]
     },
     "execution_count": 5,
     "metadata": {},
     "output_type": "execute_result"
    }
   ],
   "source": [
    "import math\n",
    "a = np.array([math.e,2,3]) # math.e 는 자연상수\n",
    "np.abs(a) # 절대값\n",
    "np.sqrt(a) # 제곱근\n",
    "np.log(a) # 로그\n",
    "np.floor(a) # 내림\n",
    "np.ceil(a) # 올림\n",
    "np.rint(a) # 반올림"
   ]
  },
  {
   "cell_type": "markdown",
   "id": "e70e8684-57cd-46d5-9004-99034b61f194",
   "metadata": {},
   "source": [
    "## Pandas DataFrame"
   ]
  },
  {
   "cell_type": "markdown",
   "id": "5135eb6f-ed8c-4694-ad0f-2e4298cbfe72",
   "metadata": {},
   "source": [
    "### DataFrame 생성"
   ]
  },
  {
   "cell_type": "code",
   "execution_count": 9,
   "id": "53efb118-ac59-4ab7-b9b9-04e26f3b68b3",
   "metadata": {},
   "outputs": [],
   "source": [
    "import pandas as pd\n",
    "\n",
    "# Dataframe 만드는 법\n",
    "# np.nan으로 NaN 값도 넣을 수 있음\n",
    "\n",
    "data = {'name':['Jason','Molly',np.nan,'Jake','Amy'],\n",
    "       'year':[2012,2012,2013,2014,2014],\n",
    "       'reports':[4,24,31,2,3]}\n"
   ]
  },
  {
   "cell_type": "code",
   "execution_count": 10,
   "id": "fd251c1c-8151-486e-9fdb-a92df82c9924",
   "metadata": {},
   "outputs": [
    {
     "data": {
      "text/plain": [
       "{'name': ['Jason', 'Molly', nan, 'Jake', 'Amy'],\n",
       " 'year': [2012, 2012, 2013, 2014, 2014],\n",
       " 'reports': [4, 24, 31, 2, 3]}"
      ]
     },
     "execution_count": 10,
     "metadata": {},
     "output_type": "execute_result"
    }
   ],
   "source": [
    "data"
   ]
  },
  {
   "cell_type": "code",
   "execution_count": 11,
   "id": "92ed88bd-3efa-440c-9d8f-2d9b0947f54e",
   "metadata": {},
   "outputs": [
    {
     "data": {
      "text/html": [
       "<div>\n",
       "<style scoped>\n",
       "    .dataframe tbody tr th:only-of-type {\n",
       "        vertical-align: middle;\n",
       "    }\n",
       "\n",
       "    .dataframe tbody tr th {\n",
       "        vertical-align: top;\n",
       "    }\n",
       "\n",
       "    .dataframe thead th {\n",
       "        text-align: right;\n",
       "    }\n",
       "</style>\n",
       "<table border=\"1\" class=\"dataframe\">\n",
       "  <thead>\n",
       "    <tr style=\"text-align: right;\">\n",
       "      <th></th>\n",
       "      <th>name</th>\n",
       "      <th>year</th>\n",
       "      <th>reports</th>\n",
       "    </tr>\n",
       "  </thead>\n",
       "  <tbody>\n",
       "    <tr>\n",
       "      <th>Cochice</th>\n",
       "      <td>Jason</td>\n",
       "      <td>2012</td>\n",
       "      <td>4</td>\n",
       "    </tr>\n",
       "    <tr>\n",
       "      <th>Pima</th>\n",
       "      <td>Molly</td>\n",
       "      <td>2012</td>\n",
       "      <td>24</td>\n",
       "    </tr>\n",
       "    <tr>\n",
       "      <th>Santa Cruz</th>\n",
       "      <td>NaN</td>\n",
       "      <td>2013</td>\n",
       "      <td>31</td>\n",
       "    </tr>\n",
       "    <tr>\n",
       "      <th>Narucioa</th>\n",
       "      <td>Jake</td>\n",
       "      <td>2014</td>\n",
       "      <td>2</td>\n",
       "    </tr>\n",
       "    <tr>\n",
       "      <th>Yuma</th>\n",
       "      <td>Amy</td>\n",
       "      <td>2014</td>\n",
       "      <td>3</td>\n",
       "    </tr>\n",
       "  </tbody>\n",
       "</table>\n",
       "</div>"
      ],
      "text/plain": [
       "             name  year  reports\n",
       "Cochice     Jason  2012        4\n",
       "Pima        Molly  2012       24\n",
       "Santa Cruz    NaN  2013       31\n",
       "Narucioa     Jake  2014        2\n",
       "Yuma          Amy  2014        3"
      ]
     },
     "execution_count": 11,
     "metadata": {},
     "output_type": "execute_result"
    }
   ],
   "source": [
    "df = pd.DataFrame(data, index = ['Cochice','Pima','Santa Cruz','Narucioa','Yuma'])\n",
    "df"
   ]
  },
  {
   "cell_type": "markdown",
   "id": "810e8468-d00a-4962-903a-1e8dba8e257f",
   "metadata": {},
   "source": [
    "### DataFrame 컬럼명 변경"
   ]
  },
  {
   "cell_type": "code",
   "execution_count": 12,
   "id": "3ae1b9e7-73a6-43e7-9bd6-f5390dc35810",
   "metadata": {},
   "outputs": [],
   "source": [
    "df = df.rename(columns = {'name':'New Name'})"
   ]
  },
  {
   "cell_type": "code",
   "execution_count": 14,
   "id": "97694aa8-6d85-4bbc-8ad5-9dc0e7d0ebb9",
   "metadata": {},
   "outputs": [],
   "source": [
    "# 전체 컬럼 이름 바꾸기\n",
    "\n",
    "new_name_list = ['Name','Year','Reports']\n",
    "\n",
    "df.columns = new_name_list"
   ]
  },
  {
   "cell_type": "markdown",
   "id": "bc279ad6-adab-46d2-ad31-60ec5f64eb55",
   "metadata": {},
   "source": [
    "## Data 확인하기"
   ]
  },
  {
   "cell_type": "markdown",
   "id": "30139c14-e868-44dc-b56d-13f7bdc872ca",
   "metadata": {},
   "source": [
    "### DataFrame"
   ]
  },
  {
   "cell_type": "code",
   "execution_count": null,
   "id": "0b01a46a-bdd7-4918-b467-c1dd65361901",
   "metadata": {},
   "outputs": [],
   "source": [
    "# df \n",
    "df.head()\n",
    "df.tail()\n",
    "df.shape\n",
    "df.columns\n",
    "df.dtypes \n",
    "df.info()\n",
    "df.describe()  /  df.describe(include='object')\n",
    "type()"
   ]
  },
  {
   "cell_type": "markdown",
   "id": "ec8634c1-146b-4e09-a82b-b10e6bb4e5ba",
   "metadata": {},
   "source": [
    "### Dict, array"
   ]
  },
  {
   "cell_type": "code",
   "execution_count": null,
   "id": "0d482c8d-a653-4cec-b7dc-9f6675fdc2d5",
   "metadata": {},
   "outputs": [],
   "source": [
    "# dictionary \n",
    "d.keys()\n",
    "d.values()\n",
    "d.items()\n",
    "# array \n",
    "a.shape\n",
    "a.dtype"
   ]
  },
  {
   "cell_type": "markdown",
   "id": "3d70e7c2-cb5c-42d6-ba24-4ceb55ed3560",
   "metadata": {},
   "source": [
    "## 결측치 처리"
   ]
  },
  {
   "cell_type": "code",
   "execution_count": null,
   "id": "34f36475-46ed-419e-ac84-5f896c0e6dd3",
   "metadata": {},
   "outputs": [],
   "source": [
    "# na 처리 : dropna(), fillna()\n",
    "df.dropna() # nan이 하나라도 들어간 행은 삭제\n",
    "df.dropna(how = 'all') # 데이터가 모두 nan인 행만 삭제 / 초기값:'any'\n",
    "## Parameters\n",
    "# axis = 'index' / 'columns'\n",
    "# subset = ['col1', 'col2', ...] # 적용 대상 컬럼 특정\n",
    "\n",
    "df.fillna(0) # na를 0으로 채우기\n",
    "\n",
    "new_data = {'a':0, 'b':1, 'c':-999}\n",
    "df.fillna(new_data) # na 발생 시 a 열에는 0, b 열에는 1, c 열에는 -999로 채움\n",
    "df.fillna(new_data, limit = 2) # 각 열별로 2개의 nan까지 대체\n",
    "df.fillna(method = 'ffill') # 열 별로 바로 앞의 데이터로 채움\n",
    "df.fillna(method = 'bfill') # 열 별로 바로 뒤의 데이터로 채움\n",
    "# ffill의 경우 첫 행이거나, 앞의 데이터가 nan일 경우 nan유지. bfill도 반대로 동일\n",
    "\n",
    "# 평균값, 중앙값으로 대치\n",
    "df.loc[19,'Leaflets'] = df['Leaflets'].mean() # 평균값으로 \n",
    "df.loc[19,'Leaflets'] = df['Leaflets'].median # 중앙값으로"
   ]
  },
  {
   "cell_type": "markdown",
   "id": "4e642d64-22bb-46b5-b3b5-ccf491a88f98",
   "metadata": {},
   "source": [
    "## 중복제거"
   ]
  },
  {
   "cell_type": "code",
   "execution_count": 15,
   "id": "b13205db-d37e-4915-830b-305682cb5bf1",
   "metadata": {},
   "outputs": [
    {
     "data": {
      "text/html": [
       "<div>\n",
       "<style scoped>\n",
       "    .dataframe tbody tr th:only-of-type {\n",
       "        vertical-align: middle;\n",
       "    }\n",
       "\n",
       "    .dataframe tbody tr th {\n",
       "        vertical-align: top;\n",
       "    }\n",
       "\n",
       "    .dataframe thead th {\n",
       "        text-align: right;\n",
       "    }\n",
       "</style>\n",
       "<table border=\"1\" class=\"dataframe\">\n",
       "  <thead>\n",
       "    <tr style=\"text-align: right;\">\n",
       "      <th></th>\n",
       "      <th>Name</th>\n",
       "      <th>Year</th>\n",
       "      <th>Reports</th>\n",
       "    </tr>\n",
       "  </thead>\n",
       "  <tbody>\n",
       "    <tr>\n",
       "      <th>Cochice</th>\n",
       "      <td>Jason</td>\n",
       "      <td>2012</td>\n",
       "      <td>4</td>\n",
       "    </tr>\n",
       "    <tr>\n",
       "      <th>Pima</th>\n",
       "      <td>Molly</td>\n",
       "      <td>2012</td>\n",
       "      <td>24</td>\n",
       "    </tr>\n",
       "    <tr>\n",
       "      <th>Santa Cruz</th>\n",
       "      <td>NaN</td>\n",
       "      <td>2013</td>\n",
       "      <td>31</td>\n",
       "    </tr>\n",
       "    <tr>\n",
       "      <th>Narucioa</th>\n",
       "      <td>Jake</td>\n",
       "      <td>2014</td>\n",
       "      <td>2</td>\n",
       "    </tr>\n",
       "    <tr>\n",
       "      <th>Yuma</th>\n",
       "      <td>Amy</td>\n",
       "      <td>2014</td>\n",
       "      <td>3</td>\n",
       "    </tr>\n",
       "  </tbody>\n",
       "</table>\n",
       "</div>"
      ],
      "text/plain": [
       "             Name  Year  Reports\n",
       "Cochice     Jason  2012        4\n",
       "Pima        Molly  2012       24\n",
       "Santa Cruz    NaN  2013       31\n",
       "Narucioa     Jake  2014        2\n",
       "Yuma          Amy  2014        3"
      ]
     },
     "execution_count": 15,
     "metadata": {},
     "output_type": "execute_result"
    }
   ],
   "source": [
    "df"
   ]
  },
  {
   "cell_type": "code",
   "execution_count": null,
   "id": "6483b8a0-4e4e-422a-ad8b-5ba740182c11",
   "metadata": {},
   "outputs": [],
   "source": [
    "# DataFrame 중복 row 제거\n",
    "df.duplicated() # 중복 여부 boolean 형태로 반환\n",
    "df.drop_duplicates() # 행 내용이 동일한 경우 제거\n",
    "df.drop_duplicates(['col1'], keep='last') # col1기준 중복값중 마지막만 남겨둠"
   ]
  },
  {
   "cell_type": "markdown",
   "id": "78367d05-70ed-4ec2-8ed0-d04e921ed5f0",
   "metadata": {},
   "source": [
    "## 이상치 처리"
   ]
  },
  {
   "cell_type": "code",
   "execution_count": 60,
   "id": "2d5dbbde-7cb3-47ec-a5f2-06fe930a397a",
   "metadata": {},
   "outputs": [],
   "source": [
    "ti = pd.read_csv('data/titanic_simple.csv')"
   ]
  },
  {
   "cell_type": "code",
   "execution_count": 61,
   "id": "5e2816c8-4f1b-46fb-81b3-463f40f2a921",
   "metadata": {},
   "outputs": [
    {
     "data": {
      "text/html": [
       "<div>\n",
       "<style scoped>\n",
       "    .dataframe tbody tr th:only-of-type {\n",
       "        vertical-align: middle;\n",
       "    }\n",
       "\n",
       "    .dataframe tbody tr th {\n",
       "        vertical-align: top;\n",
       "    }\n",
       "\n",
       "    .dataframe thead th {\n",
       "        text-align: right;\n",
       "    }\n",
       "</style>\n",
       "<table border=\"1\" class=\"dataframe\">\n",
       "  <thead>\n",
       "    <tr style=\"text-align: right;\">\n",
       "      <th></th>\n",
       "      <th>PassengerId</th>\n",
       "      <th>Survived</th>\n",
       "      <th>Pclass</th>\n",
       "      <th>Name</th>\n",
       "      <th>Sex</th>\n",
       "      <th>Age</th>\n",
       "      <th>Fare</th>\n",
       "      <th>Embarked</th>\n",
       "    </tr>\n",
       "  </thead>\n",
       "  <tbody>\n",
       "    <tr>\n",
       "      <th>0</th>\n",
       "      <td>1</td>\n",
       "      <td>0</td>\n",
       "      <td>3</td>\n",
       "      <td>Braund, Mr. Owen Harris</td>\n",
       "      <td>male</td>\n",
       "      <td>22.0</td>\n",
       "      <td>7.2500</td>\n",
       "      <td>Southhampton</td>\n",
       "    </tr>\n",
       "    <tr>\n",
       "      <th>1</th>\n",
       "      <td>2</td>\n",
       "      <td>1</td>\n",
       "      <td>1</td>\n",
       "      <td>Cumings, Mrs. John Bradley (Florence Briggs Th...</td>\n",
       "      <td>female</td>\n",
       "      <td>38.0</td>\n",
       "      <td>71.2833</td>\n",
       "      <td>Cherbourg</td>\n",
       "    </tr>\n",
       "    <tr>\n",
       "      <th>2</th>\n",
       "      <td>3</td>\n",
       "      <td>1</td>\n",
       "      <td>3</td>\n",
       "      <td>Heikkinen, Miss. Laina</td>\n",
       "      <td>female</td>\n",
       "      <td>26.0</td>\n",
       "      <td>7.9250</td>\n",
       "      <td>Southhampton</td>\n",
       "    </tr>\n",
       "    <tr>\n",
       "      <th>3</th>\n",
       "      <td>4</td>\n",
       "      <td>1</td>\n",
       "      <td>1</td>\n",
       "      <td>Futrelle, Mrs. Jacques Heath (Lily May Peel)</td>\n",
       "      <td>female</td>\n",
       "      <td>35.0</td>\n",
       "      <td>53.1000</td>\n",
       "      <td>Southhampton</td>\n",
       "    </tr>\n",
       "    <tr>\n",
       "      <th>4</th>\n",
       "      <td>5</td>\n",
       "      <td>0</td>\n",
       "      <td>3</td>\n",
       "      <td>Allen, Mr. William Henry</td>\n",
       "      <td>male</td>\n",
       "      <td>35.0</td>\n",
       "      <td>8.0500</td>\n",
       "      <td>Southhampton</td>\n",
       "    </tr>\n",
       "  </tbody>\n",
       "</table>\n",
       "</div>"
      ],
      "text/plain": [
       "   PassengerId  Survived  Pclass  \\\n",
       "0            1         0       3   \n",
       "1            2         1       1   \n",
       "2            3         1       3   \n",
       "3            4         1       1   \n",
       "4            5         0       3   \n",
       "\n",
       "                                                Name     Sex   Age     Fare  \\\n",
       "0                            Braund, Mr. Owen Harris    male  22.0   7.2500   \n",
       "1  Cumings, Mrs. John Bradley (Florence Briggs Th...  female  38.0  71.2833   \n",
       "2                             Heikkinen, Miss. Laina  female  26.0   7.9250   \n",
       "3       Futrelle, Mrs. Jacques Heath (Lily May Peel)  female  35.0  53.1000   \n",
       "4                           Allen, Mr. William Henry    male  35.0   8.0500   \n",
       "\n",
       "       Embarked  \n",
       "0  Southhampton  \n",
       "1     Cherbourg  \n",
       "2  Southhampton  \n",
       "3  Southhampton  \n",
       "4  Southhampton  "
      ]
     },
     "execution_count": 61,
     "metadata": {},
     "output_type": "execute_result"
    }
   ],
   "source": [
    "ti.head()"
   ]
  },
  {
   "cell_type": "code",
   "execution_count": 62,
   "id": "0ac1120b-00c5-43fa-9a0c-5901ba4b5be9",
   "metadata": {},
   "outputs": [
    {
     "name": "stderr",
     "output_type": "stream",
     "text": [
      "C:\\ProgramData\\Anaconda3\\lib\\site-packages\\seaborn\\_core.py:1319: UserWarning: Horizontal orientation ignored with only `y` specified.\n",
      "  warnings.warn(single_var_warning.format(\"Horizontal\", \"y\"))\n"
     ]
    },
    {
     "data": {
      "image/png": "[encoded data removed]",
      "text/plain": [
       "<Figure size 432x288 with 1 Axes>"
      ]
     },
     "metadata": {
      "needs_background": "light"
     },
     "output_type": "display_data"
    }
   ],
   "source": [
    "import seaborn as sns\n",
    "import matplotlib.pyplot as plt\n",
    "\n",
    "sns.boxplot(y = 'Fare', data = ti, orient = 'h')\n",
    "plt.show();"
   ]
  },
  {
   "cell_type": "code",
   "execution_count": 63,
   "id": "94d4603c-7aa8-46fb-9e51-47cdb9e581ae",
   "metadata": {},
   "outputs": [
    {
     "data": {
      "text/html": [
       "<div>\n",
       "<style scoped>\n",
       "    .dataframe tbody tr th:only-of-type {\n",
       "        vertical-align: middle;\n",
       "    }\n",
       "\n",
       "    .dataframe tbody tr th {\n",
       "        vertical-align: top;\n",
       "    }\n",
       "\n",
       "    .dataframe thead th {\n",
       "        text-align: right;\n",
       "    }\n",
       "</style>\n",
       "<table border=\"1\" class=\"dataframe\">\n",
       "  <thead>\n",
       "    <tr style=\"text-align: right;\">\n",
       "      <th></th>\n",
       "      <th>PassengerId</th>\n",
       "      <th>Survived</th>\n",
       "      <th>Pclass</th>\n",
       "      <th>Name</th>\n",
       "      <th>Sex</th>\n",
       "      <th>Age</th>\n",
       "      <th>Fare</th>\n",
       "      <th>Embarked</th>\n",
       "    </tr>\n",
       "  </thead>\n",
       "  <tbody>\n",
       "    <tr>\n",
       "      <th>1</th>\n",
       "      <td>2</td>\n",
       "      <td>1</td>\n",
       "      <td>1</td>\n",
       "      <td>Cumings, Mrs. John Bradley (Florence Briggs Th...</td>\n",
       "      <td>female</td>\n",
       "      <td>38.0</td>\n",
       "      <td>71.2833</td>\n",
       "      <td>Cherbourg</td>\n",
       "    </tr>\n",
       "    <tr>\n",
       "      <th>27</th>\n",
       "      <td>28</td>\n",
       "      <td>0</td>\n",
       "      <td>1</td>\n",
       "      <td>Fortune, Mr. Charles Alexander</td>\n",
       "      <td>male</td>\n",
       "      <td>19.0</td>\n",
       "      <td>263.0000</td>\n",
       "      <td>Southhampton</td>\n",
       "    </tr>\n",
       "    <tr>\n",
       "      <th>31</th>\n",
       "      <td>32</td>\n",
       "      <td>1</td>\n",
       "      <td>1</td>\n",
       "      <td>Spencer, Mrs. William Augustus (Marie Eugenie)</td>\n",
       "      <td>female</td>\n",
       "      <td>NaN</td>\n",
       "      <td>146.5208</td>\n",
       "      <td>Cherbourg</td>\n",
       "    </tr>\n",
       "    <tr>\n",
       "      <th>34</th>\n",
       "      <td>35</td>\n",
       "      <td>0</td>\n",
       "      <td>1</td>\n",
       "      <td>Meyer, Mr. Edgar Joseph</td>\n",
       "      <td>male</td>\n",
       "      <td>28.0</td>\n",
       "      <td>82.1708</td>\n",
       "      <td>Cherbourg</td>\n",
       "    </tr>\n",
       "    <tr>\n",
       "      <th>52</th>\n",
       "      <td>53</td>\n",
       "      <td>1</td>\n",
       "      <td>1</td>\n",
       "      <td>Harper, Mrs. Henry Sleeper (Myna Haxtun)</td>\n",
       "      <td>female</td>\n",
       "      <td>49.0</td>\n",
       "      <td>76.7292</td>\n",
       "      <td>Cherbourg</td>\n",
       "    </tr>\n",
       "    <tr>\n",
       "      <th>...</th>\n",
       "      <td>...</td>\n",
       "      <td>...</td>\n",
       "      <td>...</td>\n",
       "      <td>...</td>\n",
       "      <td>...</td>\n",
       "      <td>...</td>\n",
       "      <td>...</td>\n",
       "      <td>...</td>\n",
       "    </tr>\n",
       "    <tr>\n",
       "      <th>846</th>\n",
       "      <td>847</td>\n",
       "      <td>0</td>\n",
       "      <td>3</td>\n",
       "      <td>Sage, Mr. Douglas Bullen</td>\n",
       "      <td>male</td>\n",
       "      <td>NaN</td>\n",
       "      <td>69.5500</td>\n",
       "      <td>Southhampton</td>\n",
       "    </tr>\n",
       "    <tr>\n",
       "      <th>849</th>\n",
       "      <td>850</td>\n",
       "      <td>1</td>\n",
       "      <td>1</td>\n",
       "      <td>Goldenberg, Mrs. Samuel L (Edwiga Grabowska)</td>\n",
       "      <td>female</td>\n",
       "      <td>NaN</td>\n",
       "      <td>89.1042</td>\n",
       "      <td>Cherbourg</td>\n",
       "    </tr>\n",
       "    <tr>\n",
       "      <th>856</th>\n",
       "      <td>857</td>\n",
       "      <td>1</td>\n",
       "      <td>1</td>\n",
       "      <td>Wick, Mrs. George Dennick (Mary Hitchcock)</td>\n",
       "      <td>female</td>\n",
       "      <td>45.0</td>\n",
       "      <td>164.8667</td>\n",
       "      <td>Southhampton</td>\n",
       "    </tr>\n",
       "    <tr>\n",
       "      <th>863</th>\n",
       "      <td>864</td>\n",
       "      <td>0</td>\n",
       "      <td>3</td>\n",
       "      <td>Sage, Miss. Dorothy Edith \"Dolly\"</td>\n",
       "      <td>female</td>\n",
       "      <td>NaN</td>\n",
       "      <td>69.5500</td>\n",
       "      <td>Southhampton</td>\n",
       "    </tr>\n",
       "    <tr>\n",
       "      <th>879</th>\n",
       "      <td>880</td>\n",
       "      <td>1</td>\n",
       "      <td>1</td>\n",
       "      <td>Potter, Mrs. Thomas Jr (Lily Alexenia Wilson)</td>\n",
       "      <td>female</td>\n",
       "      <td>56.0</td>\n",
       "      <td>83.1583</td>\n",
       "      <td>Cherbourg</td>\n",
       "    </tr>\n",
       "  </tbody>\n",
       "</table>\n",
       "<p>116 rows × 8 columns</p>\n",
       "</div>"
      ],
      "text/plain": [
       "     PassengerId  Survived  Pclass  \\\n",
       "1              2         1       1   \n",
       "27            28         0       1   \n",
       "31            32         1       1   \n",
       "34            35         0       1   \n",
       "52            53         1       1   \n",
       "..           ...       ...     ...   \n",
       "846          847         0       3   \n",
       "849          850         1       1   \n",
       "856          857         1       1   \n",
       "863          864         0       3   \n",
       "879          880         1       1   \n",
       "\n",
       "                                                  Name     Sex   Age  \\\n",
       "1    Cumings, Mrs. John Bradley (Florence Briggs Th...  female  38.0   \n",
       "27                      Fortune, Mr. Charles Alexander    male  19.0   \n",
       "31      Spencer, Mrs. William Augustus (Marie Eugenie)  female   NaN   \n",
       "34                             Meyer, Mr. Edgar Joseph    male  28.0   \n",
       "52            Harper, Mrs. Henry Sleeper (Myna Haxtun)  female  49.0   \n",
       "..                                                 ...     ...   ...   \n",
       "846                           Sage, Mr. Douglas Bullen    male   NaN   \n",
       "849       Goldenberg, Mrs. Samuel L (Edwiga Grabowska)  female   NaN   \n",
       "856         Wick, Mrs. George Dennick (Mary Hitchcock)  female  45.0   \n",
       "863                  Sage, Miss. Dorothy Edith \"Dolly\"  female   NaN   \n",
       "879      Potter, Mrs. Thomas Jr (Lily Alexenia Wilson)  female  56.0   \n",
       "\n",
       "         Fare      Embarked  \n",
       "1     71.2833     Cherbourg  \n",
       "27   263.0000  Southhampton  \n",
       "31   146.5208     Cherbourg  \n",
       "34    82.1708     Cherbourg  \n",
       "52    76.7292     Cherbourg  \n",
       "..        ...           ...  \n",
       "846   69.5500  Southhampton  \n",
       "849   89.1042     Cherbourg  \n",
       "856  164.8667  Southhampton  \n",
       "863   69.5500  Southhampton  \n",
       "879   83.1583     Cherbourg  \n",
       "\n",
       "[116 rows x 8 columns]"
      ]
     },
     "execution_count": 63,
     "metadata": {},
     "output_type": "execute_result"
    }
   ],
   "source": [
    "q1 = ti['Fare'].quantile(.25)\n",
    "q3 = ti['Fare'].quantile(.75)\n",
    "iqr = q3 - q1\n",
    "min_iqr = q1 - 1.5 * iqr\n",
    "max_iqr = q3 + 1.5 * iqr\n",
    "min_from_all = ti['Fare'].min()\n",
    "max_from_all = ti['Fare'].max()\n",
    "if (min_iqr < min_from_all) :\n",
    "    min_iqr = min_from_all\n",
    "if (max_iqr > max_from_all) :\n",
    "    max_iqr = max_from_all\n",
    "    \n",
    "ti[(ti['Fare'] < min_iqr ) | (ti['Fare'] > max_iqr)] # 이상치 조회"
   ]
  },
  {
   "cell_type": "code",
   "execution_count": 65,
   "id": "fde64172-f697-45be-b1fe-0f8b2844a0e2",
   "metadata": {},
   "outputs": [],
   "source": [
    "ti.loc[(ti['Fare'] < min_iqr ),'Fare'] = min_iqr # 이상치 보정 - 하한치로 보정\n",
    "ti.loc[(ti['Fare'] > max_iqr ),'Fare'] = max_iqr # 이상치 보정 - 상한치로 보정"
   ]
  },
  {
   "cell_type": "markdown",
   "id": "02026ac1-d79d-4e69-887b-c3d7c0d0fc06",
   "metadata": {},
   "source": [
    "## 데이터 조회하기"
   ]
  },
  {
   "cell_type": "code",
   "execution_count": null,
   "id": "4900e910-dee3-496d-874c-89b042e501f7",
   "metadata": {},
   "outputs": [],
   "source": [
    "# 열 조회\n",
    "df['칼럼명']\n",
    "# 다수 열 조회\n",
    "df[['gpa', 'gre']].head()\n",
    "# 고유값 조회\n",
    "df['admit'].unique()\n",
    "\n",
    "# 행기준 : iloc 사용\n",
    "df.iloc[:,2]\n",
    "# 행번호 1~2 조회\n",
    "df.iloc[1:3]\n",
    "\n",
    "\n",
    "# loc 사용\n",
    "df.loc[:,'name']\n",
    "# loc + 조건\n",
    "df.loc[df['name']=='Tina',['year','reports']]\n",
    "\n",
    "\n",
    "#조건으로 \n",
    "df[(df['칼럼']> 3.0) & (df['칼럼'] == 3)] \n",
    "df[sales['칼럼'] == 2016].groupby('Month')['Amt'].sum()"
   ]
  },
  {
   "cell_type": "markdown",
   "id": "680bba8a-1379-43c1-9f7e-d454133cdfb0",
   "metadata": {},
   "source": [
    "## 문자를 변수명으로 사용하기"
   ]
  },
  {
   "cell_type": "code",
   "execution_count": 103,
   "id": "ded611a6-a9b0-4ef7-8b66-deea69e9a2e2",
   "metadata": {},
   "outputs": [
    {
     "data": {
      "text/plain": [
       "Index(['PassengerId', 'Survived', 'Pclass', 'Name', 'Sex', 'Age', 'Fare',\n",
       "       'Embarked'],\n",
       "      dtype='object')"
      ]
     },
     "execution_count": 103,
     "metadata": {},
     "output_type": "execute_result"
    }
   ],
   "source": [
    "# 중요 - For loop에 쓸 수 있는 좋은 함수\n",
    "# var()은 문자열에 변수를 담을 때 사용하고,\n",
    "# locals()는 문자열을 변수로 인식하여 method를 사용할 수 있다.\n",
    "\n",
    "vars()['df_{}_{}'.format('titanic', 'simple')] = pd.read_csv('data/{}_{}.csv'.format('titanic', 'simple'))\n",
    "# 'df_19_4'라는 문자열을 df_19_4라는 변수로 만들고, 여기에 19(4).xlsx를 담음\n",
    "\n",
    "df1 = 'df_titanic_simple'\n",
    "locals()[df1].columns\n",
    "# 'df_19_4'라는 문자열을 변수화하고, columns method를 조회"
   ]
  },
  {
   "cell_type": "markdown",
   "id": "c4df8b1c-a179-42fa-8020-05cb6a15f6fd",
   "metadata": {},
   "source": [
    "## Dataframe 정렬, 인덱싱"
   ]
  },
  {
   "cell_type": "code",
   "execution_count": null,
   "id": "6595a847-f052-4ace-aa80-4c9d98e066f2",
   "metadata": {},
   "outputs": [],
   "source": [
    "# 인덱스 기준 정렬\n",
    "df.sort_index(axis = 0)\n",
    "# 값 기준 정렬\n",
    "df.sort_values(by=['admit', 'gpa'], ascending=[False, True])\n",
    "# 값 count\n",
    "df['A'].value_counts()\n",
    "# 값 포함여부확인\n",
    "df['A'].isin(['alpha', 'beta']) # alpha 또는 beta가 있으면 True"
   ]
  },
  {
   "cell_type": "code",
   "execution_count": null,
   "id": "7e779a7b-4354-4421-9e45-cdc059eb5496",
   "metadata": {},
   "outputs": [],
   "source": [
    "# 인덱스 -> 컬럼\n",
    "df.reset_index()\n",
    "# 컬럼 -> 인덱스\n",
    "df.set_index('column_name')"
   ]
  },
  {
   "cell_type": "markdown",
   "id": "14badf09-d54e-4528-b55a-639f18ea461d",
   "metadata": {},
   "source": [
    "## MultiIndex 다중 인덱스"
   ]
  },
  {
   "cell_type": "code",
   "execution_count": 137,
   "id": "2b700cb5-d30e-41ca-bd20-18553f178043",
   "metadata": {},
   "outputs": [
    {
     "data": {
      "text/html": [
       "<div>\n",
       "<style scoped>\n",
       "    .dataframe tbody tr th:only-of-type {\n",
       "        vertical-align: middle;\n",
       "    }\n",
       "\n",
       "    .dataframe tbody tr th {\n",
       "        vertical-align: top;\n",
       "    }\n",
       "\n",
       "    .dataframe thead tr th {\n",
       "        text-align: left;\n",
       "    }\n",
       "</style>\n",
       "<table border=\"1\" class=\"dataframe\">\n",
       "  <thead>\n",
       "    <tr>\n",
       "      <th></th>\n",
       "      <th colspan=\"2\" halign=\"left\">A</th>\n",
       "      <th colspan=\"2\" halign=\"left\">B</th>\n",
       "    </tr>\n",
       "    <tr>\n",
       "      <th></th>\n",
       "      <th>C1</th>\n",
       "      <th>C2</th>\n",
       "      <th>C1</th>\n",
       "      <th>C2</th>\n",
       "    </tr>\n",
       "  </thead>\n",
       "  <tbody>\n",
       "    <tr>\n",
       "      <th>0</th>\n",
       "      <td>1.76</td>\n",
       "      <td>0.40</td>\n",
       "      <td>0.98</td>\n",
       "      <td>2.24</td>\n",
       "    </tr>\n",
       "    <tr>\n",
       "      <th>1</th>\n",
       "      <td>1.87</td>\n",
       "      <td>-0.98</td>\n",
       "      <td>0.95</td>\n",
       "      <td>-0.15</td>\n",
       "    </tr>\n",
       "    <tr>\n",
       "      <th>2</th>\n",
       "      <td>-0.10</td>\n",
       "      <td>0.41</td>\n",
       "      <td>0.14</td>\n",
       "      <td>1.45</td>\n",
       "    </tr>\n",
       "    <tr>\n",
       "      <th>3</th>\n",
       "      <td>0.76</td>\n",
       "      <td>0.12</td>\n",
       "      <td>0.44</td>\n",
       "      <td>0.33</td>\n",
       "    </tr>\n",
       "    <tr>\n",
       "      <th>4</th>\n",
       "      <td>1.49</td>\n",
       "      <td>-0.21</td>\n",
       "      <td>0.31</td>\n",
       "      <td>-0.85</td>\n",
       "    </tr>\n",
       "  </tbody>\n",
       "</table>\n",
       "</div>"
      ],
      "text/plain": [
       "      A           B      \n",
       "     C1    C2    C1    C2\n",
       "0  1.76  0.40  0.98  2.24\n",
       "1  1.87 -0.98  0.95 -0.15\n",
       "2 -0.10  0.41  0.14  1.45\n",
       "3  0.76  0.12  0.44  0.33\n",
       "4  1.49 -0.21  0.31 -0.85"
      ]
     },
     "execution_count": 137,
     "metadata": {},
     "output_type": "execute_result"
    }
   ],
   "source": [
    "# 다중 인덱스\n",
    "np.random.seed(0)\n",
    "df3 = pd.DataFrame(np.round(np.random.randn(5, 4), 2),\n",
    "                   columns=[[\"A\", \"A\", \"B\", \"B\"],\n",
    "                            [\"C1\", \"C2\", \"C1\", \"C2\"]])\n",
    "df3"
   ]
  },
  {
   "cell_type": "markdown",
   "id": "68eca28b-4f8f-4fb0-8ca3-49b1352297d2",
   "metadata": {},
   "source": [
    "## MultiIndex를 단일 인덱스로 만드는 방법"
   ]
  },
  {
   "cell_type": "code",
   "execution_count": 123,
   "id": "d0f75589-4db4-4cdb-9300-54e36ba65afd",
   "metadata": {},
   "outputs": [
    {
     "data": {
      "text/html": [
       "<div>\n",
       "<style scoped>\n",
       "    .dataframe tbody tr th:only-of-type {\n",
       "        vertical-align: middle;\n",
       "    }\n",
       "\n",
       "    .dataframe tbody tr th {\n",
       "        vertical-align: top;\n",
       "    }\n",
       "\n",
       "    .dataframe thead th {\n",
       "        text-align: right;\n",
       "    }\n",
       "</style>\n",
       "<table border=\"1\" class=\"dataframe\">\n",
       "  <thead>\n",
       "    <tr style=\"text-align: right;\">\n",
       "      <th></th>\n",
       "      <th>A_C1</th>\n",
       "      <th>A_C2</th>\n",
       "      <th>B_C1</th>\n",
       "      <th>B_C2</th>\n",
       "    </tr>\n",
       "  </thead>\n",
       "  <tbody>\n",
       "    <tr>\n",
       "      <th>0</th>\n",
       "      <td>1.76</td>\n",
       "      <td>0.40</td>\n",
       "      <td>0.98</td>\n",
       "      <td>2.24</td>\n",
       "    </tr>\n",
       "    <tr>\n",
       "      <th>1</th>\n",
       "      <td>1.87</td>\n",
       "      <td>-0.98</td>\n",
       "      <td>0.95</td>\n",
       "      <td>-0.15</td>\n",
       "    </tr>\n",
       "    <tr>\n",
       "      <th>2</th>\n",
       "      <td>-0.10</td>\n",
       "      <td>0.41</td>\n",
       "      <td>0.14</td>\n",
       "      <td>1.45</td>\n",
       "    </tr>\n",
       "    <tr>\n",
       "      <th>3</th>\n",
       "      <td>0.76</td>\n",
       "      <td>0.12</td>\n",
       "      <td>0.44</td>\n",
       "      <td>0.33</td>\n",
       "    </tr>\n",
       "    <tr>\n",
       "      <th>4</th>\n",
       "      <td>1.49</td>\n",
       "      <td>-0.21</td>\n",
       "      <td>0.31</td>\n",
       "      <td>-0.85</td>\n",
       "    </tr>\n",
       "  </tbody>\n",
       "</table>\n",
       "</div>"
      ],
      "text/plain": [
       "   A_C1  A_C2  B_C1  B_C2\n",
       "0  1.76  0.40  0.98  2.24\n",
       "1  1.87 -0.98  0.95 -0.15\n",
       "2 -0.10  0.41  0.14  1.45\n",
       "3  0.76  0.12  0.44  0.33\n",
       "4  1.49 -0.21  0.31 -0.85"
      ]
     },
     "execution_count": 123,
     "metadata": {},
     "output_type": "execute_result"
    }
   ],
   "source": [
    "# 인덱스(행방향)가 다중일 때 : reset_index()를 사용한다 -- 끝\n",
    "# 컬럼명(열방향)이 다중일 때\n",
    "level0 = df3.columns.get_level_values(0)\n",
    "level1 = df3.columns.get_level_values(1)\n",
    "df3.columns = level0 + '_' + level1\n",
    "df3"
   ]
  },
  {
   "cell_type": "markdown",
   "id": "ec9e33d2-89be-4be3-8325-8bdf3e4c5faa",
   "metadata": {},
   "source": [
    "## (컬럼명) MultiIndx 이름 붙이기 / 조회"
   ]
  },
  {
   "cell_type": "code",
   "execution_count": 150,
   "id": "f55312e1-86aa-4a47-a551-d9c51f4739db",
   "metadata": {},
   "outputs": [
    {
     "name": "stdout",
     "output_type": "stream",
     "text": [
      "Cidx1     A           B      \n",
      "Cidx2    C1    C2    C1    C2\n",
      "0      1.76  0.40  0.98  2.24\n",
      "1      1.87 -0.98  0.95 -0.15\n",
      "2     -0.10  0.41  0.14  1.45\n",
      "3      0.76  0.12  0.44  0.33\n",
      "4      1.49 -0.21  0.31 -0.85\n",
      "\n",
      "\n",
      "0    0.98\n",
      "1    0.95\n",
      "2    0.14\n",
      "3    0.44\n",
      "4    0.31\n",
      "Name: (B, C1), dtype: float64\n",
      "0.98\n",
      "\n",
      "\n",
      "0.98\n"
     ]
    }
   ],
   "source": [
    "# 다중인덱스에 이름 붙이기\n",
    "df3.columns.names = [\"Cidx1\",\"Cidx2\"]\n",
    "print(df3)\n",
    "print('\\n')\n",
    "# 상위 레벨에서 조회\n",
    "print(df3[(\"B\", \"C1\")])\n",
    "print(df3.loc[0, (\"B\", \"C1\")])\n",
    "print('\\n')\n",
    "\n",
    "# iloc는 가장 하위 레벨에서 조회함\n",
    "print(df3.iloc[0,2]) # 0.98"
   ]
  },
  {
   "cell_type": "markdown",
   "id": "041feb33-dc8f-462b-bd44-34c572c4b8c3",
   "metadata": {},
   "source": [
    "## (인덱스) MultiIndex 이름 붙이기"
   ]
  },
  {
   "cell_type": "code",
   "execution_count": 1,
   "id": "4bc17474-043a-4213-9ac3-87b4818b80e3",
   "metadata": {},
   "outputs": [
    {
     "data": {
      "text/html": [
       "<div>\n",
       "<style scoped>\n",
       "    .dataframe tbody tr th:only-of-type {\n",
       "        vertical-align: middle;\n",
       "    }\n",
       "\n",
       "    .dataframe tbody tr th {\n",
       "        vertical-align: top;\n",
       "    }\n",
       "\n",
       "    .dataframe thead tr th {\n",
       "        text-align: left;\n",
       "    }\n",
       "\n",
       "    .dataframe thead tr:last-of-type th {\n",
       "        text-align: right;\n",
       "    }\n",
       "</style>\n",
       "<table border=\"1\" class=\"dataframe\">\n",
       "  <thead>\n",
       "    <tr>\n",
       "      <th></th>\n",
       "      <th>Cidx1</th>\n",
       "      <th colspan=\"2\" halign=\"left\">A</th>\n",
       "      <th colspan=\"2\" halign=\"left\">B</th>\n",
       "    </tr>\n",
       "    <tr>\n",
       "      <th></th>\n",
       "      <th>Cidx2</th>\n",
       "      <th>C</th>\n",
       "      <th>D</th>\n",
       "      <th>C</th>\n",
       "      <th>D</th>\n",
       "    </tr>\n",
       "    <tr>\n",
       "      <th>Ridx1</th>\n",
       "      <th>Ridx2</th>\n",
       "      <th></th>\n",
       "      <th></th>\n",
       "      <th></th>\n",
       "      <th></th>\n",
       "    </tr>\n",
       "  </thead>\n",
       "  <tbody>\n",
       "    <tr>\n",
       "      <th rowspan=\"3\" valign=\"top\">M</th>\n",
       "      <th>id_1</th>\n",
       "      <td>1.76</td>\n",
       "      <td>0.40</td>\n",
       "      <td>0.98</td>\n",
       "      <td>2.24</td>\n",
       "    </tr>\n",
       "    <tr>\n",
       "      <th>id_2</th>\n",
       "      <td>1.87</td>\n",
       "      <td>-0.98</td>\n",
       "      <td>0.95</td>\n",
       "      <td>-0.15</td>\n",
       "    </tr>\n",
       "    <tr>\n",
       "      <th>id_3</th>\n",
       "      <td>-0.10</td>\n",
       "      <td>0.41</td>\n",
       "      <td>0.14</td>\n",
       "      <td>1.45</td>\n",
       "    </tr>\n",
       "    <tr>\n",
       "      <th rowspan=\"3\" valign=\"top\">F</th>\n",
       "      <th>id_1</th>\n",
       "      <td>0.76</td>\n",
       "      <td>0.12</td>\n",
       "      <td>0.44</td>\n",
       "      <td>0.33</td>\n",
       "    </tr>\n",
       "    <tr>\n",
       "      <th>id_2</th>\n",
       "      <td>1.49</td>\n",
       "      <td>-0.21</td>\n",
       "      <td>0.31</td>\n",
       "      <td>-0.85</td>\n",
       "    </tr>\n",
       "    <tr>\n",
       "      <th>id_3</th>\n",
       "      <td>-2.55</td>\n",
       "      <td>0.65</td>\n",
       "      <td>0.86</td>\n",
       "      <td>-0.74</td>\n",
       "    </tr>\n",
       "  </tbody>\n",
       "</table>\n",
       "</div>"
      ],
      "text/plain": [
       "Cidx1           A           B      \n",
       "Cidx2           C     D     C     D\n",
       "Ridx1 Ridx2                        \n",
       "M     id_1   1.76  0.40  0.98  2.24\n",
       "      id_2   1.87 -0.98  0.95 -0.15\n",
       "      id_3  -0.10  0.41  0.14  1.45\n",
       "F     id_1   0.76  0.12  0.44  0.33\n",
       "      id_2   1.49 -0.21  0.31 -0.85\n",
       "      id_3  -2.55  0.65  0.86 -0.74"
      ]
     },
     "execution_count": 1,
     "metadata": {},
     "output_type": "execute_result"
    }
   ],
   "source": [
    "import pandas as pd\n",
    "import numpy as np\n",
    "\n",
    "# 다중 행 인덱스 + 이름 붙이기\n",
    "np.random.seed(0)\n",
    "df4 = pd.DataFrame(np.round(np.random.randn(6, 4), 2),\n",
    "                   columns=[[\"A\", \"A\", \"B\", \"B\"],\n",
    "                            [\"C\", \"D\", \"C\", \"D\"]],\n",
    "                   index=[[\"M\", \"M\", \"M\", \"F\", \"F\", \"F\"],\n",
    "                          [\"id_\" + str(i + 1) for i in range(3)] * 2])\n",
    "df4.columns.names = [\"Cidx1\", \"Cidx2\"]\n",
    "df4.index.names = [\"Ridx1\", \"Ridx2\"]\n",
    "df4"
   ]
  },
  {
   "cell_type": "markdown",
   "id": "cbc90543-641e-458a-b2d6-e56a3c4a335f",
   "metadata": {},
   "source": [
    "## 인덱스 순서 교체"
   ]
  },
  {
   "cell_type": "code",
   "execution_count": 156,
   "id": "d6e0ede6-4755-4102-8ad1-bd23e33b4eeb",
   "metadata": {},
   "outputs": [
    {
     "data": {
      "text/html": [
       "<div>\n",
       "<style scoped>\n",
       "    .dataframe tbody tr th:only-of-type {\n",
       "        vertical-align: middle;\n",
       "    }\n",
       "\n",
       "    .dataframe tbody tr th {\n",
       "        vertical-align: top;\n",
       "    }\n",
       "\n",
       "    .dataframe thead tr th {\n",
       "        text-align: left;\n",
       "    }\n",
       "\n",
       "    .dataframe thead tr:last-of-type th {\n",
       "        text-align: right;\n",
       "    }\n",
       "</style>\n",
       "<table border=\"1\" class=\"dataframe\">\n",
       "  <thead>\n",
       "    <tr>\n",
       "      <th></th>\n",
       "      <th>Cidx1</th>\n",
       "      <th colspan=\"2\" halign=\"left\">A</th>\n",
       "      <th colspan=\"2\" halign=\"left\">B</th>\n",
       "    </tr>\n",
       "    <tr>\n",
       "      <th></th>\n",
       "      <th>Cidx2</th>\n",
       "      <th>C</th>\n",
       "      <th>D</th>\n",
       "      <th>C</th>\n",
       "      <th>D</th>\n",
       "    </tr>\n",
       "    <tr>\n",
       "      <th>Ridx2</th>\n",
       "      <th>Ridx1</th>\n",
       "      <th></th>\n",
       "      <th></th>\n",
       "      <th></th>\n",
       "      <th></th>\n",
       "    </tr>\n",
       "  </thead>\n",
       "  <tbody>\n",
       "    <tr>\n",
       "      <th>id_1</th>\n",
       "      <th>M</th>\n",
       "      <td>1.76</td>\n",
       "      <td>0.40</td>\n",
       "      <td>0.98</td>\n",
       "      <td>2.24</td>\n",
       "    </tr>\n",
       "    <tr>\n",
       "      <th>id_2</th>\n",
       "      <th>M</th>\n",
       "      <td>1.87</td>\n",
       "      <td>-0.98</td>\n",
       "      <td>0.95</td>\n",
       "      <td>-0.15</td>\n",
       "    </tr>\n",
       "    <tr>\n",
       "      <th>id_3</th>\n",
       "      <th>M</th>\n",
       "      <td>-0.10</td>\n",
       "      <td>0.41</td>\n",
       "      <td>0.14</td>\n",
       "      <td>1.45</td>\n",
       "    </tr>\n",
       "    <tr>\n",
       "      <th>id_1</th>\n",
       "      <th>F</th>\n",
       "      <td>0.76</td>\n",
       "      <td>0.12</td>\n",
       "      <td>0.44</td>\n",
       "      <td>0.33</td>\n",
       "    </tr>\n",
       "    <tr>\n",
       "      <th>id_2</th>\n",
       "      <th>F</th>\n",
       "      <td>1.49</td>\n",
       "      <td>-0.21</td>\n",
       "      <td>0.31</td>\n",
       "      <td>-0.85</td>\n",
       "    </tr>\n",
       "    <tr>\n",
       "      <th>id_3</th>\n",
       "      <th>F</th>\n",
       "      <td>-2.55</td>\n",
       "      <td>0.65</td>\n",
       "      <td>0.86</td>\n",
       "      <td>-0.74</td>\n",
       "    </tr>\n",
       "  </tbody>\n",
       "</table>\n",
       "</div>"
      ],
      "text/plain": [
       "Cidx1           A           B      \n",
       "Cidx2           C     D     C     D\n",
       "Ridx2 Ridx1                        \n",
       "id_1  M      1.76  0.40  0.98  2.24\n",
       "id_2  M      1.87 -0.98  0.95 -0.15\n",
       "id_3  M     -0.10  0.41  0.14  1.45\n",
       "id_1  F      0.76  0.12  0.44  0.33\n",
       "id_2  F      1.49 -0.21  0.31 -0.85\n",
       "id_3  F     -2.55  0.65  0.86 -0.74"
      ]
     },
     "execution_count": 156,
     "metadata": {},
     "output_type": "execute_result"
    }
   ],
   "source": [
    "# 다중 인덱스의 인덱스 순서(레벨) 교체 \n",
    "# swaplevel(i, j, axis)\n",
    "df5 = df4.swaplevel(\"Ridx1\", \"Ridx2\", 0) ; \n",
    "df5"
   ]
  },
  {
   "cell_type": "markdown",
   "id": "2b6628b5-57c5-407f-ba61-3ce0e837b52b",
   "metadata": {},
   "source": [
    "## 인덱스 정렬"
   ]
  },
  {
   "cell_type": "code",
   "execution_count": 159,
   "id": "589703a4-0ba8-492c-9492-1df0e6fa958f",
   "metadata": {},
   "outputs": [
    {
     "data": {
      "text/html": [
       "<div>\n",
       "<style scoped>\n",
       "    .dataframe tbody tr th:only-of-type {\n",
       "        vertical-align: middle;\n",
       "    }\n",
       "\n",
       "    .dataframe tbody tr th {\n",
       "        vertical-align: top;\n",
       "    }\n",
       "\n",
       "    .dataframe thead tr th {\n",
       "        text-align: left;\n",
       "    }\n",
       "\n",
       "    .dataframe thead tr:last-of-type th {\n",
       "        text-align: right;\n",
       "    }\n",
       "</style>\n",
       "<table border=\"1\" class=\"dataframe\">\n",
       "  <thead>\n",
       "    <tr>\n",
       "      <th></th>\n",
       "      <th>Cidx1</th>\n",
       "      <th colspan=\"2\" halign=\"left\">A</th>\n",
       "      <th colspan=\"2\" halign=\"left\">B</th>\n",
       "    </tr>\n",
       "    <tr>\n",
       "      <th></th>\n",
       "      <th>Cidx2</th>\n",
       "      <th>C</th>\n",
       "      <th>D</th>\n",
       "      <th>C</th>\n",
       "      <th>D</th>\n",
       "    </tr>\n",
       "    <tr>\n",
       "      <th>Ridx2</th>\n",
       "      <th>Ridx1</th>\n",
       "      <th></th>\n",
       "      <th></th>\n",
       "      <th></th>\n",
       "      <th></th>\n",
       "    </tr>\n",
       "  </thead>\n",
       "  <tbody>\n",
       "    <tr>\n",
       "      <th>id_1</th>\n",
       "      <th>M</th>\n",
       "      <td>1.76</td>\n",
       "      <td>0.40</td>\n",
       "      <td>0.98</td>\n",
       "      <td>2.24</td>\n",
       "    </tr>\n",
       "    <tr>\n",
       "      <th>id_2</th>\n",
       "      <th>M</th>\n",
       "      <td>1.87</td>\n",
       "      <td>-0.98</td>\n",
       "      <td>0.95</td>\n",
       "      <td>-0.15</td>\n",
       "    </tr>\n",
       "    <tr>\n",
       "      <th>id_3</th>\n",
       "      <th>M</th>\n",
       "      <td>-0.10</td>\n",
       "      <td>0.41</td>\n",
       "      <td>0.14</td>\n",
       "      <td>1.45</td>\n",
       "    </tr>\n",
       "    <tr>\n",
       "      <th>id_1</th>\n",
       "      <th>F</th>\n",
       "      <td>0.76</td>\n",
       "      <td>0.12</td>\n",
       "      <td>0.44</td>\n",
       "      <td>0.33</td>\n",
       "    </tr>\n",
       "    <tr>\n",
       "      <th>id_2</th>\n",
       "      <th>F</th>\n",
       "      <td>1.49</td>\n",
       "      <td>-0.21</td>\n",
       "      <td>0.31</td>\n",
       "      <td>-0.85</td>\n",
       "    </tr>\n",
       "    <tr>\n",
       "      <th>id_3</th>\n",
       "      <th>F</th>\n",
       "      <td>-2.55</td>\n",
       "      <td>0.65</td>\n",
       "      <td>0.86</td>\n",
       "      <td>-0.74</td>\n",
       "    </tr>\n",
       "  </tbody>\n",
       "</table>\n",
       "</div>"
      ],
      "text/plain": [
       "Cidx1           A           B      \n",
       "Cidx2           C     D     C     D\n",
       "Ridx2 Ridx1                        \n",
       "id_1  M      1.76  0.40  0.98  2.24\n",
       "id_2  M      1.87 -0.98  0.95 -0.15\n",
       "id_3  M     -0.10  0.41  0.14  1.45\n",
       "id_1  F      0.76  0.12  0.44  0.33\n",
       "id_2  F      1.49 -0.21  0.31 -0.85\n",
       "id_3  F     -2.55  0.65  0.86 -0.74"
      ]
     },
     "execution_count": 159,
     "metadata": {},
     "output_type": "execute_result"
    }
   ],
   "source": [
    "# 다중 인덱스의 정렬\n",
    "df5.sort_index(axis=1, level=0)"
   ]
  },
  {
   "cell_type": "code",
   "execution_count": 163,
   "id": "2b53393d-4ddb-4868-bfb0-15d209f5184d",
   "metadata": {},
   "outputs": [
    {
     "data": {
      "text/html": [
       "<div>\n",
       "<style scoped>\n",
       "    .dataframe tbody tr th:only-of-type {\n",
       "        vertical-align: middle;\n",
       "    }\n",
       "\n",
       "    .dataframe tbody tr th {\n",
       "        vertical-align: top;\n",
       "    }\n",
       "\n",
       "    .dataframe thead tr th {\n",
       "        text-align: left;\n",
       "    }\n",
       "\n",
       "    .dataframe thead tr:last-of-type th {\n",
       "        text-align: right;\n",
       "    }\n",
       "</style>\n",
       "<table border=\"1\" class=\"dataframe\">\n",
       "  <thead>\n",
       "    <tr>\n",
       "      <th></th>\n",
       "      <th>Cidx1</th>\n",
       "      <th colspan=\"2\" halign=\"left\">A</th>\n",
       "      <th colspan=\"2\" halign=\"left\">B</th>\n",
       "    </tr>\n",
       "    <tr>\n",
       "      <th></th>\n",
       "      <th>Cidx2</th>\n",
       "      <th>C</th>\n",
       "      <th>D</th>\n",
       "      <th>C</th>\n",
       "      <th>D</th>\n",
       "    </tr>\n",
       "    <tr>\n",
       "      <th>Ridx2</th>\n",
       "      <th>Ridx1</th>\n",
       "      <th></th>\n",
       "      <th></th>\n",
       "      <th></th>\n",
       "      <th></th>\n",
       "    </tr>\n",
       "  </thead>\n",
       "  <tbody>\n",
       "    <tr>\n",
       "      <th>id_1</th>\n",
       "      <th>F</th>\n",
       "      <td>0.76</td>\n",
       "      <td>0.12</td>\n",
       "      <td>0.44</td>\n",
       "      <td>0.33</td>\n",
       "    </tr>\n",
       "    <tr>\n",
       "      <th>id_2</th>\n",
       "      <th>F</th>\n",
       "      <td>1.49</td>\n",
       "      <td>-0.21</td>\n",
       "      <td>0.31</td>\n",
       "      <td>-0.85</td>\n",
       "    </tr>\n",
       "    <tr>\n",
       "      <th>id_3</th>\n",
       "      <th>F</th>\n",
       "      <td>-2.55</td>\n",
       "      <td>0.65</td>\n",
       "      <td>0.86</td>\n",
       "      <td>-0.74</td>\n",
       "    </tr>\n",
       "    <tr>\n",
       "      <th>id_1</th>\n",
       "      <th>M</th>\n",
       "      <td>1.76</td>\n",
       "      <td>0.40</td>\n",
       "      <td>0.98</td>\n",
       "      <td>2.24</td>\n",
       "    </tr>\n",
       "    <tr>\n",
       "      <th>id_2</th>\n",
       "      <th>M</th>\n",
       "      <td>1.87</td>\n",
       "      <td>-0.98</td>\n",
       "      <td>0.95</td>\n",
       "      <td>-0.15</td>\n",
       "    </tr>\n",
       "    <tr>\n",
       "      <th>id_3</th>\n",
       "      <th>M</th>\n",
       "      <td>-0.10</td>\n",
       "      <td>0.41</td>\n",
       "      <td>0.14</td>\n",
       "      <td>1.45</td>\n",
       "    </tr>\n",
       "  </tbody>\n",
       "</table>\n",
       "</div>"
      ],
      "text/plain": [
       "Cidx1           A           B      \n",
       "Cidx2           C     D     C     D\n",
       "Ridx2 Ridx1                        \n",
       "id_1  F      0.76  0.12  0.44  0.33\n",
       "id_2  F      1.49 -0.21  0.31 -0.85\n",
       "id_3  F     -2.55  0.65  0.86 -0.74\n",
       "id_1  M      1.76  0.40  0.98  2.24\n",
       "id_2  M      1.87 -0.98  0.95 -0.15\n",
       "id_3  M     -0.10  0.41  0.14  1.45"
      ]
     },
     "execution_count": 163,
     "metadata": {},
     "output_type": "execute_result"
    }
   ],
   "source": [
    "# 다중 인덱스의 정렬\n",
    "df5.sort_index(axis=0, level=1)"
   ]
  },
  {
   "cell_type": "markdown",
   "id": "7f3618a8-75e8-435c-b9e3-9eefcad0fc90",
   "metadata": {},
   "source": [
    "## Stack, Unstack"
   ]
  },
  {
   "cell_type": "code",
   "execution_count": null,
   "id": "9e1c8b00-cf35-4ac6-8ca9-0851d3f0596e",
   "metadata": {},
   "outputs": [],
   "source": [
    "# 행 인덱스 -> 열 인덱스 : stack()\n",
    "df4.stack() # 가장 안쪽 인덱스가 stack 됨\n",
    "df4.stack(\"Cidx1\") # 특정 인덱스를 stack\n",
    "df4.stack(1) # 번호로 특정(바깥부터 0, 1... -1)\n",
    "\n",
    "# 열 인덱스 -> 행 인덱스 : unstack()\n",
    "df4.unstack() # 가장 안쪽 인덱스가 unstack 됨\n",
    "df4.unstack(\"Ridx2\") # 특정 인덱스를 unstack\n",
    "df4.unstack(0) # 번호로 특정(바깥부터 0, 1... -1)"
   ]
  },
  {
   "cell_type": "code",
   "execution_count": 3,
   "id": "3bf2b4df-67a4-4633-af12-7616953767cc",
   "metadata": {},
   "outputs": [
    {
     "data": {
      "text/html": [
       "<div>\n",
       "<style scoped>\n",
       "    .dataframe tbody tr th:only-of-type {\n",
       "        vertical-align: middle;\n",
       "    }\n",
       "\n",
       "    .dataframe tbody tr th {\n",
       "        vertical-align: top;\n",
       "    }\n",
       "\n",
       "    .dataframe thead tr th {\n",
       "        text-align: left;\n",
       "    }\n",
       "\n",
       "    .dataframe thead tr:last-of-type th {\n",
       "        text-align: right;\n",
       "    }\n",
       "</style>\n",
       "<table border=\"1\" class=\"dataframe\">\n",
       "  <thead>\n",
       "    <tr>\n",
       "      <th></th>\n",
       "      <th>Cidx1</th>\n",
       "      <th colspan=\"2\" halign=\"left\">A</th>\n",
       "      <th colspan=\"2\" halign=\"left\">B</th>\n",
       "    </tr>\n",
       "    <tr>\n",
       "      <th></th>\n",
       "      <th>Cidx2</th>\n",
       "      <th>C</th>\n",
       "      <th>D</th>\n",
       "      <th>C</th>\n",
       "      <th>D</th>\n",
       "    </tr>\n",
       "    <tr>\n",
       "      <th>Ridx1</th>\n",
       "      <th>Ridx2</th>\n",
       "      <th></th>\n",
       "      <th></th>\n",
       "      <th></th>\n",
       "      <th></th>\n",
       "    </tr>\n",
       "  </thead>\n",
       "  <tbody>\n",
       "    <tr>\n",
       "      <th rowspan=\"3\" valign=\"top\">M</th>\n",
       "      <th>id_1</th>\n",
       "      <td>1.76</td>\n",
       "      <td>0.40</td>\n",
       "      <td>0.98</td>\n",
       "      <td>2.24</td>\n",
       "    </tr>\n",
       "    <tr>\n",
       "      <th>id_2</th>\n",
       "      <td>1.87</td>\n",
       "      <td>-0.98</td>\n",
       "      <td>0.95</td>\n",
       "      <td>-0.15</td>\n",
       "    </tr>\n",
       "    <tr>\n",
       "      <th>id_3</th>\n",
       "      <td>-0.10</td>\n",
       "      <td>0.41</td>\n",
       "      <td>0.14</td>\n",
       "      <td>1.45</td>\n",
       "    </tr>\n",
       "    <tr>\n",
       "      <th rowspan=\"3\" valign=\"top\">F</th>\n",
       "      <th>id_1</th>\n",
       "      <td>0.76</td>\n",
       "      <td>0.12</td>\n",
       "      <td>0.44</td>\n",
       "      <td>0.33</td>\n",
       "    </tr>\n",
       "    <tr>\n",
       "      <th>id_2</th>\n",
       "      <td>1.49</td>\n",
       "      <td>-0.21</td>\n",
       "      <td>0.31</td>\n",
       "      <td>-0.85</td>\n",
       "    </tr>\n",
       "    <tr>\n",
       "      <th>id_3</th>\n",
       "      <td>-2.55</td>\n",
       "      <td>0.65</td>\n",
       "      <td>0.86</td>\n",
       "      <td>-0.74</td>\n",
       "    </tr>\n",
       "  </tbody>\n",
       "</table>\n",
       "</div>"
      ],
      "text/plain": [
       "Cidx1           A           B      \n",
       "Cidx2           C     D     C     D\n",
       "Ridx1 Ridx2                        \n",
       "M     id_1   1.76  0.40  0.98  2.24\n",
       "      id_2   1.87 -0.98  0.95 -0.15\n",
       "      id_3  -0.10  0.41  0.14  1.45\n",
       "F     id_1   0.76  0.12  0.44  0.33\n",
       "      id_2   1.49 -0.21  0.31 -0.85\n",
       "      id_3  -2.55  0.65  0.86 -0.74"
      ]
     },
     "execution_count": 3,
     "metadata": {},
     "output_type": "execute_result"
    }
   ],
   "source": [
    "df4"
   ]
  },
  {
   "cell_type": "code",
   "execution_count": 13,
   "id": "00b29cf4-f3f3-447e-8f43-d6c4f584765d",
   "metadata": {},
   "outputs": [
    {
     "data": {
      "text/html": [
       "<div>\n",
       "<style scoped>\n",
       "    .dataframe tbody tr th:only-of-type {\n",
       "        vertical-align: middle;\n",
       "    }\n",
       "\n",
       "    .dataframe tbody tr th {\n",
       "        vertical-align: top;\n",
       "    }\n",
       "\n",
       "    .dataframe thead tr th {\n",
       "        text-align: left;\n",
       "    }\n",
       "\n",
       "    .dataframe thead tr:last-of-type th {\n",
       "        text-align: right;\n",
       "    }\n",
       "</style>\n",
       "<table border=\"1\" class=\"dataframe\">\n",
       "  <thead>\n",
       "    <tr>\n",
       "      <th>Cidx1</th>\n",
       "      <th colspan=\"6\" halign=\"left\">A</th>\n",
       "      <th colspan=\"6\" halign=\"left\">B</th>\n",
       "    </tr>\n",
       "    <tr>\n",
       "      <th>Cidx2</th>\n",
       "      <th colspan=\"3\" halign=\"left\">C</th>\n",
       "      <th colspan=\"3\" halign=\"left\">D</th>\n",
       "      <th colspan=\"3\" halign=\"left\">C</th>\n",
       "      <th colspan=\"3\" halign=\"left\">D</th>\n",
       "    </tr>\n",
       "    <tr>\n",
       "      <th>Ridx2</th>\n",
       "      <th>id_1</th>\n",
       "      <th>id_2</th>\n",
       "      <th>id_3</th>\n",
       "      <th>id_1</th>\n",
       "      <th>id_2</th>\n",
       "      <th>id_3</th>\n",
       "      <th>id_1</th>\n",
       "      <th>id_2</th>\n",
       "      <th>id_3</th>\n",
       "      <th>id_1</th>\n",
       "      <th>id_2</th>\n",
       "      <th>id_3</th>\n",
       "    </tr>\n",
       "    <tr>\n",
       "      <th>Ridx1</th>\n",
       "      <th></th>\n",
       "      <th></th>\n",
       "      <th></th>\n",
       "      <th></th>\n",
       "      <th></th>\n",
       "      <th></th>\n",
       "      <th></th>\n",
       "      <th></th>\n",
       "      <th></th>\n",
       "      <th></th>\n",
       "      <th></th>\n",
       "      <th></th>\n",
       "    </tr>\n",
       "  </thead>\n",
       "  <tbody>\n",
       "    <tr>\n",
       "      <th>F</th>\n",
       "      <td>0.76</td>\n",
       "      <td>1.49</td>\n",
       "      <td>-2.55</td>\n",
       "      <td>0.12</td>\n",
       "      <td>-0.21</td>\n",
       "      <td>0.65</td>\n",
       "      <td>0.44</td>\n",
       "      <td>0.31</td>\n",
       "      <td>0.86</td>\n",
       "      <td>0.33</td>\n",
       "      <td>-0.85</td>\n",
       "      <td>-0.74</td>\n",
       "    </tr>\n",
       "    <tr>\n",
       "      <th>M</th>\n",
       "      <td>1.76</td>\n",
       "      <td>1.87</td>\n",
       "      <td>-0.10</td>\n",
       "      <td>0.40</td>\n",
       "      <td>-0.98</td>\n",
       "      <td>0.41</td>\n",
       "      <td>0.98</td>\n",
       "      <td>0.95</td>\n",
       "      <td>0.14</td>\n",
       "      <td>2.24</td>\n",
       "      <td>-0.15</td>\n",
       "      <td>1.45</td>\n",
       "    </tr>\n",
       "  </tbody>\n",
       "</table>\n",
       "</div>"
      ],
      "text/plain": [
       "Cidx1     A                                   B                              \n",
       "Cidx2     C                 D                 C                 D            \n",
       "Ridx2  id_1  id_2  id_3  id_1  id_2  id_3  id_1  id_2  id_3  id_1  id_2  id_3\n",
       "Ridx1                                                                        \n",
       "F      0.76  1.49 -2.55  0.12 -0.21  0.65  0.44  0.31  0.86  0.33 -0.85 -0.74\n",
       "M      1.76  1.87 -0.10  0.40 -0.98  0.41  0.98  0.95  0.14  2.24 -0.15  1.45"
      ]
     },
     "execution_count": 13,
     "metadata": {},
     "output_type": "execute_result"
    }
   ],
   "source": [
    "df4.unstack()"
   ]
  },
  {
   "cell_type": "code",
   "execution_count": 11,
   "id": "bb2ecfba-ebbd-4281-8d24-d1e3c8e7ddbb",
   "metadata": {},
   "outputs": [
    {
     "data": {
      "text/html": [
       "<div>\n",
       "<style scoped>\n",
       "    .dataframe tbody tr th:only-of-type {\n",
       "        vertical-align: middle;\n",
       "    }\n",
       "\n",
       "    .dataframe tbody tr th {\n",
       "        vertical-align: top;\n",
       "    }\n",
       "\n",
       "    .dataframe thead tr th {\n",
       "        text-align: left;\n",
       "    }\n",
       "\n",
       "    .dataframe thead tr:last-of-type th {\n",
       "        text-align: right;\n",
       "    }\n",
       "</style>\n",
       "<table border=\"1\" class=\"dataframe\">\n",
       "  <thead>\n",
       "    <tr>\n",
       "      <th></th>\n",
       "      <th>Cidx1</th>\n",
       "      <th colspan=\"2\" halign=\"left\">A</th>\n",
       "      <th colspan=\"2\" halign=\"left\">B</th>\n",
       "    </tr>\n",
       "    <tr>\n",
       "      <th></th>\n",
       "      <th>Cidx2</th>\n",
       "      <th>C</th>\n",
       "      <th>D</th>\n",
       "      <th>C</th>\n",
       "      <th>D</th>\n",
       "    </tr>\n",
       "    <tr>\n",
       "      <th>Ridx1</th>\n",
       "      <th>Ridx2</th>\n",
       "      <th></th>\n",
       "      <th></th>\n",
       "      <th></th>\n",
       "      <th></th>\n",
       "    </tr>\n",
       "  </thead>\n",
       "  <tbody>\n",
       "    <tr>\n",
       "      <th rowspan=\"3\" valign=\"top\">M</th>\n",
       "      <th>id_1</th>\n",
       "      <td>1.76</td>\n",
       "      <td>0.40</td>\n",
       "      <td>0.98</td>\n",
       "      <td>2.24</td>\n",
       "    </tr>\n",
       "    <tr>\n",
       "      <th>id_2</th>\n",
       "      <td>1.87</td>\n",
       "      <td>-0.98</td>\n",
       "      <td>0.95</td>\n",
       "      <td>-0.15</td>\n",
       "    </tr>\n",
       "    <tr>\n",
       "      <th>id_3</th>\n",
       "      <td>-0.10</td>\n",
       "      <td>0.41</td>\n",
       "      <td>0.14</td>\n",
       "      <td>1.45</td>\n",
       "    </tr>\n",
       "    <tr>\n",
       "      <th rowspan=\"3\" valign=\"top\">F</th>\n",
       "      <th>id_1</th>\n",
       "      <td>0.76</td>\n",
       "      <td>0.12</td>\n",
       "      <td>0.44</td>\n",
       "      <td>0.33</td>\n",
       "    </tr>\n",
       "    <tr>\n",
       "      <th>id_2</th>\n",
       "      <td>1.49</td>\n",
       "      <td>-0.21</td>\n",
       "      <td>0.31</td>\n",
       "      <td>-0.85</td>\n",
       "    </tr>\n",
       "    <tr>\n",
       "      <th>id_3</th>\n",
       "      <td>-2.55</td>\n",
       "      <td>0.65</td>\n",
       "      <td>0.86</td>\n",
       "      <td>-0.74</td>\n",
       "    </tr>\n",
       "  </tbody>\n",
       "</table>\n",
       "</div>"
      ],
      "text/plain": [
       "Cidx1           A           B      \n",
       "Cidx2           C     D     C     D\n",
       "Ridx1 Ridx2                        \n",
       "M     id_1   1.76  0.40  0.98  2.24\n",
       "      id_2   1.87 -0.98  0.95 -0.15\n",
       "      id_3  -0.10  0.41  0.14  1.45\n",
       "F     id_1   0.76  0.12  0.44  0.33\n",
       "      id_2   1.49 -0.21  0.31 -0.85\n",
       "      id_3  -2.55  0.65  0.86 -0.74"
      ]
     },
     "execution_count": 11,
     "metadata": {},
     "output_type": "execute_result"
    }
   ],
   "source": [
    "df4"
   ]
  },
  {
   "cell_type": "markdown",
   "id": "79dc25cb-11a2-4b9a-b8bb-b106319ea260",
   "metadata": {},
   "source": [
    "## 날짜데이터 다루기"
   ]
  },
  {
   "cell_type": "markdown",
   "id": "3b0ee95a-27d3-434a-9d44-c70a2143144b",
   "metadata": {},
   "source": [
    "### String -> Datetime"
   ]
  },
  {
   "cell_type": "code",
   "execution_count": null,
   "id": "22a0c8f4-9e86-4868-9314-b94f704f784e",
   "metadata": {},
   "outputs": [],
   "source": [
    "# string -> datetime\n",
    "# 첫 번째 방법 : pd.to_datetime 이게 안 되면 너의 분석은 일단 50% 망한 거임\n",
    "df['Date'] = pd.to_datetime(df['Date'])\n",
    "pd.to_datetime('2.1.2011') # 2011년 2월 1일\n",
    "pd.to_datetime(dt, format='%d.%m.%Y') # 2011년 1월 2일\n",
    "pd.to_datetime('2.1.2011', dayfirst=True) # 2011년 1월 2일"
   ]
  },
  {
   "cell_type": "code",
   "execution_count": 31,
   "id": "86fc4b5a-6d17-44f3-a1a8-7806a105c043",
   "metadata": {},
   "outputs": [
    {
     "name": "stdout",
     "output_type": "stream",
     "text": [
      "Date: 2018-06-28\n",
      "Time: 07:40:00\n",
      "Date-time: 2018-06-28 07:40:00\n"
     ]
    }
   ],
   "source": [
    "# 두 번째 방법\n",
    "import datetime\n",
    "date_time_str = 'Jun 28 2018  7:40AM'  \n",
    "date_time_obj = datetime.datetime.strptime(date_time_str, '%b %d %Y %I:%M%p')\n",
    "# 2018-09-15 00:01:14\n",
    "# %Y-%m-%d %H:%M:%S\n",
    "print('Date:', date_time_obj.date())  \n",
    "print('Time:', date_time_obj.time())  \n",
    "print('Date-time:', date_time_obj) \n"
   ]
  },
  {
   "cell_type": "markdown",
   "id": "1b0a1748-2ed9-4b73-99d8-532aaf5e7ef1",
   "metadata": {},
   "source": [
    "##### 날짜 및 시간 지정 문자열 의미\n",
    "\n",
    "- %Y 앞의 빈자리를 0으로 채우는 4자리 연도 숫자 (소문자는 두 자리인 듯)\n",
    "- %m 앞의 빈자리를 0으로 채우는 2자리 월 숫자\n",
    "- %d 앞의 빈자리를 0으로 채우는 2자리 일 숫자\n",
    "- %H 앞의 빈자리를 0으로 채우는 24시간 형식 2자리 시간 숫자\n",
    "- %M 앞의 빈자리를 0으로 채우는 2자리 분 숫자\n",
    "- %S 앞의 빈자리를 0으로 채우는 2자리 초 숫자\n",
    "- %A 영어로 된 요일 문자열 (소문자는 약어일 듯)\n",
    "- %B 영어로 된 월 문자열 (얘도 아마 소문자는 약어일 듯)"
   ]
  },
  {
   "cell_type": "markdown",
   "id": "29995b98-db4e-44b0-821a-27ba38a90c32",
   "metadata": {},
   "source": [
    "### Timestamp -> Datetime"
   ]
  },
  {
   "cell_type": "code",
   "execution_count": 32,
   "id": "ebf421eb-3203-47bc-b206-a893ae43274d",
   "metadata": {},
   "outputs": [
    {
     "data": {
      "text/plain": [
       "datetime.datetime(2022, 7, 5, 11, 11, 32, 972157)"
      ]
     },
     "execution_count": 32,
     "metadata": {},
     "output_type": "execute_result"
    }
   ],
   "source": [
    "# timestamp -> datetime\n",
    "from datetime import datetime\n",
    "import time\n",
    "tt = time.time() # 현재시각\n",
    "#time.time()이 timestamp 형태 : 1599989445.0296414\n",
    "\n",
    "datetime.fromtimestamp(tt) # datetime 형식으로 변환\n",
    "# 2020-09-13 18:28:49.321784"
   ]
  },
  {
   "cell_type": "code",
   "execution_count": 33,
   "id": "1b07b6ee-2994-4a3e-90ea-a237d7ba4eee",
   "metadata": {},
   "outputs": [
    {
     "data": {
      "text/plain": [
       "datetime.datetime(1970, 1, 31, 9, 0)"
      ]
     },
     "execution_count": 33,
     "metadata": {},
     "output_type": "execute_result"
    }
   ],
   "source": [
    "# Timestamp 직접 만들기\n",
    "# 초 * 분 * 시 * 일\n",
    "timestamp = 60 * 60 * 24 * 30 # 2592000\n",
    "datetime.fromtimestamp(timestamp)"
   ]
  },
  {
   "cell_type": "markdown",
   "id": "44bd5f8d-d07d-465e-a87f-06a7fa1fb2e5",
   "metadata": {},
   "source": [
    "## Datetime 내용 조회 : 연, 월, 일 등"
   ]
  },
  {
   "cell_type": "code",
   "execution_count": null,
   "id": "d689ffc1-a880-401d-80bd-d35ae5c1d2f3",
   "metadata": {},
   "outputs": [],
   "source": [
    "# datetime\n",
    "# Type이 날짜 형식인 경우\n",
    "a.month # 월 추출\n",
    "a.dt.day_name() # 요일"
   ]
  },
  {
   "cell_type": "markdown",
   "id": "13cf9456-4364-400b-9f9e-080150965c6f",
   "metadata": {},
   "source": [
    "## 데이터타입 변경하기"
   ]
  },
  {
   "cell_type": "code",
   "execution_count": null,
   "id": "30d8de74-9866-44f3-accc-699bd7db5896",
   "metadata": {},
   "outputs": [],
   "source": [
    "# Pandas에서 데이터프레임 dtype 변경하기\n",
    "df['A'].astype('float')\n",
    "df['B'].astype('int')\n",
    "pd.to_numeric(df['C'])\n",
    "pd.to_numeric(pd.Series(['1','2','a']), errors='ignore') # 'a'가 그대로 반환됨\n",
    "pd.to_numeric(pd.Series(['1','2','a']), errors='coerce') # 'a'가 nan으로 반환됨\n",
    "\n",
    "df['C'].astype('str')\n",
    "\n",
    "pd.Categorical(df['D'])\n",
    "order = ['봄','여름','가을','겨울']\n",
    "pd.Categorical(df['D'], categories = order, ordered = True) # Category의 종류와 순서를 정해줄 수 있음\n",
    "\n",
    "# Datetime으로의 변환은 Pandas Cookbook 참고"
   ]
  },
  {
   "cell_type": "markdown",
   "id": "25100f5e-cce4-4f95-9760-d6640d5a9979",
   "metadata": {},
   "source": [
    "## apply, map"
   ]
  },
  {
   "cell_type": "code",
   "execution_count": null,
   "id": "6182a8f4-c7a8-4fcf-8b5a-23f776b65c8a",
   "metadata": {},
   "outputs": [],
   "source": [
    "# apply, map 함수\n",
    "\n",
    "# map은 Dataframe Series의 값 하나하나에 함수를 적용할 때 사용\n",
    "df['B']  = df['A'].map(lambda x : my_func(x)) # x는 df['A']의 값\n",
    "\n",
    "# apply는 Datafram 각 행의 여러 컬럼에 함수를 적용할 때 사용\n",
    "df['C'] = df.apply(lambda x: my_func(x['A'], x['B']), axis=1)\n",
    "# x는 df의 각 행, A, B는 컬럼"
   ]
  },
  {
   "cell_type": "markdown",
   "id": "6084a5a6-8627-4687-9ece-808d39bebdea",
   "metadata": {},
   "source": [
    "## String ↔ List"
   ]
  },
  {
   "cell_type": "code",
   "execution_count": 34,
   "id": "10187775-bf28-476c-a26a-3dd42867b914",
   "metadata": {},
   "outputs": [
    {
     "name": "stdout",
     "output_type": "stream",
     "text": [
      "['apple', 'is', 'a', 'fruit']\n"
     ]
    }
   ],
   "source": [
    "# str to list\n",
    "string = \"apple is a fruit\"\n",
    "sen = string.split()\n",
    "print(sen)"
   ]
  },
  {
   "cell_type": "code",
   "execution_count": 35,
   "id": "bef665ff-dd5c-459c-a530-f653d4f0da07",
   "metadata": {},
   "outputs": [
    {
     "name": "stdout",
     "output_type": "stream",
     "text": [
      "apple is a fruit\n"
     ]
    }
   ],
   "source": [
    "# list to str\n",
    "string = ' '.join(sen)\n",
    "print(string)"
   ]
  },
  {
   "cell_type": "markdown",
   "id": "954fc6aa-c524-4bc7-a51f-60e66eeab87c",
   "metadata": {},
   "source": [
    "## 시각화 결과 저장"
   ]
  },
  {
   "cell_type": "code",
   "execution_count": null,
   "id": "95ded2f9-6773-4bbe-b716-51a2a1c0f2d4",
   "metadata": {},
   "outputs": [],
   "source": [
    "# 그래프 저장\n",
    "fig.savefig('filename.png', format='png') # 차트 저장\n",
    "## Parameters\n",
    "# dpi = 300 : 해상도"
   ]
  },
  {
   "cell_type": "markdown",
   "id": "c3362892-ee6b-49df-a2a5-debb8a46e8bc",
   "metadata": {},
   "source": [
    "## 숫자 표기법"
   ]
  },
  {
   "cell_type": "code",
   "execution_count": null,
   "id": "df889b63-0571-49a3-8577-b9ef601bd137",
   "metadata": {},
   "outputs": [],
   "source": [
    "# Pandas 숫자 출력 포맷팅\n",
    "# https://financedata.github.io/posts/pandas-display-format.html\n",
    "\n",
    "# 과학적 표기법(Scientific notation)을 사용하지 않는 경우\n",
    "pd.set_option('display.float_format', '{:.2f}'.format)\n",
    "\n",
    "# 과학적 표기법(Scientific notation)\n",
    "pd.set_option('display.float_format', '{:.2e}'.format)\n",
    "pd.set_option('display.float_format', '${:.2g}'.format) # 적당히 알아서\n",
    "pd.set_option('display.float_format', None) # 원상복귀"
   ]
  },
  {
   "cell_type": "markdown",
   "id": "87cab3fe-f73f-41f9-b402-5cc98eed5f33",
   "metadata": {},
   "source": [
    "## DataFrame 합치기"
   ]
  },
  {
   "cell_type": "markdown",
   "id": "3fdad3cf-0767-40d4-99a3-f11e778e978b",
   "metadata": {},
   "source": [
    "### merge"
   ]
  },
  {
   "cell_type": "code",
   "execution_count": null,
   "id": "7453a632-8977-4b83-869d-6cdf61ee13df",
   "metadata": {},
   "outputs": [],
   "source": [
    "# df 옆으로 합치기\n",
    "# merge on index\n",
    "pd.merge(df1, df2, how='outer', left_index=True, right_index=True)\n",
    "\n",
    "# merge on cols : cols를 key로 사용\n",
    "pd.merge(df1, df2, how = 'outer', on = ['col1', 'col2']) # 합집합 / 'left'는 left join"
   ]
  },
  {
   "cell_type": "markdown",
   "id": "ccdce1b8-745b-4e6f-8262-d53a5dc45b17",
   "metadata": {},
   "source": [
    "### concat"
   ]
  },
  {
   "cell_type": "code",
   "execution_count": null,
   "id": "3d9384b3-87f9-4a3b-b3c0-f1628d0e3a28",
   "metadata": {},
   "outputs": [],
   "source": [
    "# 옆으로 단순 합치기\n",
    "df_new = pd.concat([df, df_rank], axis=1)\n",
    "\n",
    "# df 밑으로 합치기\n",
    "s1 = pd.Series([0,1], index=['a','b'])\n",
    "s2 = pd.Series([2,3,4], index=['c','d','e'])\n",
    "s3 = pd.Series([5,6], index=['f','g'])\n",
    "\n",
    "pd.concat([s1,s2,s3]) # 단순히 index와 Series가 연결됨\n",
    "\n",
    "# 컬럼을 구준하며 연결 : index는 유지하며 DataFrame 형태로 결과\n",
    "pd.concat([s1,s2,s3], axis=1, keys=['col1','col2','col3'], sort=False)\n",
    "pd.concat([df3, df4], axis=1) # df 열방향 병합\n",
    "pd.concat([df3, df4], ignore_index=True) # df 행방향 병합, index를 새로 매김"
   ]
  },
  {
   "cell_type": "markdown",
   "id": "f56e69fb-30c3-4740-a3c6-f29874d827e2",
   "metadata": {},
   "source": [
    "## Dummy화"
   ]
  },
  {
   "cell_type": "code",
   "execution_count": null,
   "id": "9002644f-29fa-4fcb-8ffe-d31f9d90f0a5",
   "metadata": {},
   "outputs": [],
   "source": [
    "# dummy 변수 만들고 합치기\n",
    "df_rank = pd.get_dummies(df['col3']) # dummy\n",
    "df_new = pd.concat([df, df_rank], axis=1) # 합치기\n",
    "df_new.drop(['col3'], axis=1, inplace=True) # drop\n",
    "df_new"
   ]
  },
  {
   "cell_type": "markdown",
   "id": "e3ca7780-3066-4299-b0a8-279e64dcb9dc",
   "metadata": {},
   "source": [
    "## Rolling, Shift"
   ]
  },
  {
   "cell_type": "code",
   "execution_count": null,
   "id": "ca403683-f145-47ab-9dc1-74afc34a15c6",
   "metadata": {},
   "outputs": [],
   "source": [
    "# rolling\n",
    "df['col2'] = df['col1'].rolling(3).mean() # col1의 과거 3개 값의 평균\n",
    "df['col2'] = df['col1'].rolling(3, min_periods = 1).mean() # min_periods : 1, 2행을 과거 1, 2행 값만으로 계산\n",
    "\n",
    "df['col3'] = df['col2'].shift(3) # 'col2'의 값을 3칸 아래로 이동"
   ]
  },
  {
   "cell_type": "markdown",
   "id": "51edf378-4070-4c22-9da5-87190b188719",
   "metadata": {},
   "source": [
    "## 딕셔너리"
   ]
  },
  {
   "cell_type": "code",
   "execution_count": 37,
   "id": "02d35156-cfb0-4717-a5cc-776a9bb8606d",
   "metadata": {},
   "outputs": [
    {
     "data": {
      "text/plain": [
       "{'a': 50, 'b': 100, 'c': 200}"
      ]
     },
     "execution_count": 37,
     "metadata": {},
     "output_type": "execute_result"
    }
   ],
   "source": [
    "# 딕셔너리 생성\n",
    "dic1 = {'a':50, 'b':100, 'c':200}\n",
    "dic2 = {'c0':'hey', 'd':'apple', 'e':'wassup'}\n",
    "\n",
    "# 다른 방법\n",
    "dict(a = 50, b = 100, c = 200)"
   ]
  },
  {
   "cell_type": "code",
   "execution_count": 38,
   "id": "3ea0f48d-aed4-422d-bf5c-ef8c6259349f",
   "metadata": {},
   "outputs": [
    {
     "data": {
      "text/plain": [
       "{'a': 50, 'b': 100, 'c': 200, 5: 600}"
      ]
     },
     "execution_count": 38,
     "metadata": {},
     "output_type": "execute_result"
    }
   ],
   "source": [
    "# 딕셔너리 item 추가\n",
    "dic1[5] = 600 # 여기서 5는 순서가 아니라 그냥 문자열처럼 키값임\n",
    "dic1"
   ]
  },
  {
   "cell_type": "code",
   "execution_count": 39,
   "id": "d0a32098-8613-4e1b-a0cc-7a4fa3db1bf6",
   "metadata": {},
   "outputs": [
    {
     "data": {
      "text/plain": [
       "{'b': 100, 'c': 200, 5: 600}"
      ]
     },
     "execution_count": 39,
     "metadata": {},
     "output_type": "execute_result"
    }
   ],
   "source": [
    "# 딕셔너리 item 삭제\n",
    "del dic1['a']\n",
    "dic1"
   ]
  },
  {
   "cell_type": "code",
   "execution_count": 40,
   "id": "1971ec78-59f3-4769-a888-d6b5ce421693",
   "metadata": {},
   "outputs": [
    {
     "data": {
      "text/plain": [
       "{'b': 100, 'c': 200, 5: 600, 'c0': 'hey', 'd': 'apple', 'e': 'wassup'}"
      ]
     },
     "execution_count": 40,
     "metadata": {},
     "output_type": "execute_result"
    }
   ],
   "source": [
    "# 딕셔너리 병합\n",
    "dic1.update(dic2)\n",
    "dic1"
   ]
  },
  {
   "cell_type": "markdown",
   "id": "653287d0-89c6-4542-b52d-cad381454b73",
   "metadata": {},
   "source": [
    "## Set"
   ]
  },
  {
   "cell_type": "code",
   "execution_count": 41,
   "id": "8382a449-4729-4d23-99f2-e6eca90a5b7c",
   "metadata": {},
   "outputs": [
    {
     "name": "stdout",
     "output_type": "stream",
     "text": [
      "{'apple', 'banana', 'orange'}\n",
      "{'apple', 'peach', 'banana', 'orange'}\n",
      "{'peach', 'banana', 'orange'}\n"
     ]
    }
   ],
   "source": [
    "# Set : 중첩되지 않은 값\n",
    "e = {'apple', 'banana', 'orange'} ; print(e)\n",
    "e.add('peach') ; print(e) # 요소 추가\n",
    "e.remove('apple') ; print(e) # 요소 제거"
   ]
  },
  {
   "cell_type": "markdown",
   "id": "56c1e420-475f-48d8-a055-f97aa423cde4",
   "metadata": {},
   "source": [
    "## List"
   ]
  },
  {
   "cell_type": "code",
   "execution_count": null,
   "id": "a53bb00b-cbfc-4891-bde1-9c8c56819adc",
   "metadata": {},
   "outputs": [],
   "source": [
    "a = [1, 2, 3]\n",
    "a.append(5) # [1, 2, 3, 5]\n",
    "a.insert(0, 4) # [4, 1, 2, 3, 5]\n",
    "a.sort() # [1, 2, 3, 4, 5]\n",
    "a.reverse() # [5, 4, 3, 2, 1]\n",
    "a.insert(1, 'lemon') # [5, 'lemon', 4, 3, 2, 1]\n",
    "a.index('lemon') # 위치 출력 -> 1 \n",
    "a.remove(1) # 해당 원소 삭제 -> [5, 'Lemon', 4, 3, 2]\n",
    "a.pop() # 마지막 원소 출력 후, 해당 원소는 삭제 -> 1 // [5, 'Lemon', 4, 3]\n",
    "a.count('Lemon') # 개수 세기 -> 1\n",
    "a.extend([9, 8, 'Yeah']) # 뒤로 합침 -> [5, 'Lemon', 4, 3, 9, 8, 'Yeah']\n",
    "a[0:2] = ['you', 'me'] # 대치 -> ['you', 'me', 4, 3, 9, 8, 'Yeah']"
   ]
  },
  {
   "cell_type": "markdown",
   "id": "489157c9-0709-4c8d-ba2a-91fd65aad9d6",
   "metadata": {},
   "source": [
    "## 문자열"
   ]
  },
  {
   "cell_type": "markdown",
   "id": "ae32c4ed-e030-4cc5-9324-0cd739848baf",
   "metadata": {},
   "source": [
    "### 문자열 포함/일치 여부 확인"
   ]
  },
  {
   "cell_type": "code",
   "execution_count": null,
   "id": "8aaffb29-a030-4c96-90d5-7d8bff6db00f",
   "metadata": {},
   "outputs": [],
   "source": [
    "# 문자열 데이터 탐색\n",
    "df['col1'].str.contains('Lemon') # 포함 여부\n",
    "df['col2'].str.match('Lemon') # 일치 여부"
   ]
  },
  {
   "cell_type": "code",
   "execution_count": 42,
   "id": "7f3a5dec-7997-44bd-8542-8e398851f558",
   "metadata": {},
   "outputs": [
    {
     "data": {
      "text/plain": [
       "'hello apple'"
      ]
     },
     "execution_count": 42,
     "metadata": {},
     "output_type": "execute_result"
    }
   ],
   "source": [
    "# replace : 문자열 변경\n",
    "a = 'hello lemon'\n",
    "a.replace('lemon', 'apple')"
   ]
  },
  {
   "cell_type": "code",
   "execution_count": 43,
   "id": "cddb8b48-c96f-49d2-b45e-0d4e27e36445",
   "metadata": {},
   "outputs": [
    {
     "data": {
      "text/plain": [
       "'corn'"
      ]
     },
     "execution_count": 43,
     "metadata": {},
     "output_type": "execute_result"
    }
   ],
   "source": [
    "# strip : 앞뒤 공백 제거\n",
    "b = '   corn   '\n",
    "b.strip()"
   ]
  },
  {
   "cell_type": "markdown",
   "id": "554b65bd-8696-4370-809a-0b73414e3d98",
   "metadata": {},
   "source": [
    "## 기타"
   ]
  },
  {
   "cell_type": "markdown",
   "id": "605f0b0e-4466-40c6-9f9c-e3cc6a5602cd",
   "metadata": {},
   "source": [
    "### 조건 검색 : loc, query"
   ]
  },
  {
   "cell_type": "code",
   "execution_count": null,
   "id": "8766d984-ec63-433f-990c-9f9d8171afe5",
   "metadata": {},
   "outputs": [],
   "source": [
    "# 조건부 검색 : query 사용\n",
    "df[df['col1']>0.5 & df['col2']==0.3]\n",
    "df.query('col1>0.5 and col2==0.3') # 같은 표현"
   ]
  },
  {
   "cell_type": "markdown",
   "id": "155fe3e9-82d1-41bb-b4f6-3d21f18d0c15",
   "metadata": {},
   "source": [
    "### String 자릿수 맞추기"
   ]
  },
  {
   "cell_type": "code",
   "execution_count": 45,
   "id": "ff41591d-84c6-4715-9bc3-4821952e4cb7",
   "metadata": {},
   "outputs": [
    {
     "data": {
      "text/plain": [
       "0    0000a\n",
       "1    000bb\n",
       "2    00ccc\n",
       "3    0dddd\n",
       "Name: 0, dtype: object"
      ]
     },
     "execution_count": 45,
     "metadata": {},
     "output_type": "execute_result"
    }
   ],
   "source": [
    "# string 앞에 0으로 자릿수 맞춰주기\n",
    "'aa'.zfill(5) # '000aa'\n",
    "\n",
    "a = ['a','bb','ccc','dddd']\n",
    "df = pd.DataFrame(a)\n",
    "df[0].map(lambda x: x.zfill(5))"
   ]
  },
  {
   "cell_type": "markdown",
   "id": "8a01fe81-ab1b-4872-8bdc-34a8cd93fc2c",
   "metadata": {},
   "source": [
    "### 소수점 자리 제한"
   ]
  },
  {
   "cell_type": "code",
   "execution_count": 46,
   "id": "80de6a63-fe24-48a1-aa72-f6b03487e872",
   "metadata": {},
   "outputs": [
    {
     "data": {
      "text/plain": [
       "0    1.11\n",
       "1    2.22\n",
       "2    3.33\n",
       "Name: Lemon, dtype: object"
      ]
     },
     "execution_count": 46,
     "metadata": {},
     "output_type": "execute_result"
    }
   ],
   "source": [
    "# 소수점 자리 제한\n",
    "'{:.2f}'.format(12.3333)\n",
    "\n",
    "b = [1.111111, 2.22222, 3.333333]\n",
    "df = pd.DataFrame(b, columns=['Lemon'])\n",
    "df['Lemon'].map(lambda x: '{:.2f}'.format(x))"
   ]
  },
  {
   "cell_type": "markdown",
   "id": "aa8b3a57-fb2f-4774-914a-9f8972361e9e",
   "metadata": {},
   "source": [
    "### 기초 연산"
   ]
  },
  {
   "cell_type": "code",
   "execution_count": 47,
   "id": "8b7d43db-3b61-4fe6-bf86-139fe83a041e",
   "metadata": {},
   "outputs": [
    {
     "name": "stdout",
     "output_type": "stream",
     "text": [
      "5\n",
      "3\n",
      "9\n"
     ]
    }
   ],
   "source": [
    "print(23//4) # 몫\n",
    "print(23%4) # 나머지\n",
    "print(3**2) # 제곱"
   ]
  },
  {
   "cell_type": "markdown",
   "id": "96f99a1f-a3f1-4b1c-9c48-176d2850a280",
   "metadata": {},
   "source": [
    "### enumerate"
   ]
  },
  {
   "cell_type": "code",
   "execution_count": null,
   "id": "54275e1d-d154-4ad3-9190-8abcbc704d5f",
   "metadata": {},
   "outputs": [],
   "source": [
    "# enumerate : 순서가 있는 자료형를 입력받아, 인덱스와 값을 포함하는 오브젝트로 리턴.\n",
    "fruits = ['apple', 'banana', 'cherry']\n",
    "for index, value in enumerate(fruits):\n",
    "    print(index, value)"
   ]
  },
  {
   "cell_type": "markdown",
   "id": "fe3d85d6-6aa8-47ea-82e0-cb5696915f3d",
   "metadata": {},
   "source": [
    "### groupby"
   ]
  },
  {
   "cell_type": "code",
   "execution_count": null,
   "id": "892a650e-2803-41da-bc3e-766ff748c559",
   "metadata": {},
   "outputs": [],
   "source": [
    "# aggregate\n",
    "df.groupby('key').aggregate(['min', np.median, max]) # 열별 min, median, max\n",
    "df.groupby('key').aggregate({'data1': 'min', 'data2': np.sum}) # 열 각각에 대해 다른 요약 적용\n",
    "\n",
    "# filter\n",
    "def filter_by_mean(x):\n",
    "    return x['data2'].mean() > 3\n",
    "df.groupby('key').filter(filter_by_mean) # 함수 결과 True만 필터링\n",
    "\n",
    "# apply\n",
    "df.groupby('key').apply(lambdax: x.max() - x.min()) # 열별 max-min을 apply\n",
    "\n",
    "# get_group\n",
    "df.groupby(\"시도\").get_group(\"충남\") # '시도'가 충남인 것만 출력\n",
    "\n",
    "# pivot table\n",
    "df.pivot_table(\n",
    "    index='sex',\n",
    "    columns='class',\n",
    "    values=['survived','col4'],\n",
    "    aggfunc=np.mean)"
   ]
  },
  {
   "cell_type": "code",
   "execution_count": 58,
   "id": "bfcc1727-cafe-40aa-858c-e6f2d7624f95",
   "metadata": {},
   "outputs": [
    {
     "name": "stdout",
     "output_type": "stream",
     "text": [
      "     PassengerId  Survived  Pclass                                      Name  \\\n",
      "0              1         0       3                   Braund, Mr. Owen Harris   \n",
      "2              3         1       3                    Heikkinen, Miss. Laina   \n",
      "4              5         0       3                  Allen, Mr. William Henry   \n",
      "5              6         0       3                          Moran, Mr. James   \n",
      "7              8         0       3            Palsson, Master. Gosta Leonard   \n",
      "..           ...       ...     ...                                       ...   \n",
      "882          883         0       3              Dahlberg, Miss. Gerda Ulrika   \n",
      "884          885         0       3                    Sutehall, Mr. Henry Jr   \n",
      "885          886         0       3      Rice, Mrs. William (Margaret Norton)   \n",
      "888          889         0       3  Johnston, Miss. Catherine Helen \"Carrie\"   \n",
      "890          891         0       3                       Dooley, Mr. Patrick   \n",
      "\n",
      "        Sex   Age     Fare      Embarked  \n",
      "0      male  22.0   7.2500  Southhampton  \n",
      "2    female  26.0   7.9250  Southhampton  \n",
      "4      male  35.0   8.0500  Southhampton  \n",
      "5      male   NaN   8.4583    Queenstown  \n",
      "7      male   2.0  21.0750  Southhampton  \n",
      "..      ...   ...      ...           ...  \n",
      "882  female  22.0  10.5167  Southhampton  \n",
      "884    male  25.0   7.0500  Southhampton  \n",
      "885  female  39.0  29.1250    Queenstown  \n",
      "888  female   NaN  23.4500  Southhampton  \n",
      "890    male  32.0   7.7500    Queenstown  \n",
      "\n",
      "[491 rows x 8 columns]\n",
      "       PassengerId             Survived            Pclass              Age  \\\n",
      "               min median  max      min median max    min median max   min   \n",
      "Sex                                                                          \n",
      "female           2  414.5  889        0      1   1      1      2   3  0.75   \n",
      "male             1  464.0  891        0      0   1      1      3   3  0.42   \n",
      "\n",
      "                     Fare                   \n",
      "       median   max   min median       max  \n",
      "Sex                                         \n",
      "female   27.0  63.0  6.75   23.0  512.3292  \n",
      "male     29.0  80.0  0.00   10.5  512.3292  \n"
     ]
    }
   ],
   "source": [
    "df = pd.read_csv('data/titanic_simple.csv')\n",
    "print(df.groupby('Pclass').get_group(3))\n",
    "print(df.groupby('Sex').aggregate(['min', np.median, max]))"
   ]
  },
  {
   "cell_type": "markdown",
   "id": "7cd8ab76-fe11-4907-9900-67d6562fca00",
   "metadata": {},
   "source": [
    "## 정규표현식"
   ]
  },
  {
   "cell_type": "markdown",
   "id": "0396ef98-6825-4672-a3df-03a950fef0ca",
   "metadata": {},
   "source": [
    "\\d - 숫자와 매치, [0-9]와 동일한 표현식이다.<br>\n",
    "\n",
    "\\D - 숫자가 아닌 것과 매치, [^0-9]와 동일한 표현식이다.<br>\n",
    "\n",
    "\\s - whitespace 문자와 매치, [ \\t\\n\\r\\f\\v]와 동일한 표현식이다. 맨 앞의 빈 칸은 공백문자(space)를 의미한다.<br>\n",
    "\n",
    "\\S - whitespace 문자가 아닌 것과 매치, [^ \\t\\n\\r\\f\\v]와 동일한 표현식이다.<br>\n",
    "\n",
    "\\w - 문자+숫자(alphanumeric)와 매치, [a-zA-Z0-9_]와 동일한 표현식이다.<br>\n",
    "\n",
    "\\W - 문자+숫자(alphanumeric)가 아닌 문자와 매치, [^a-zA-Z0-9_]와 동일한 표현식이다.<br>"
   ]
  },
  {
   "cell_type": "code",
   "execution_count": null,
   "id": "1b9c1384-eb21-4edc-9841-1d12f31f9e87",
   "metadata": {},
   "outputs": [],
   "source": []
  }
 ],
 "metadata": {
  "kernelspec": {
   "display_name": "Python 3 (ipykernel)",
   "language": "python",
   "name": "python3"
  },
  "language_info": {
   "codemirror_mode": {
    "name": "ipython",
    "version": 3
   },
   "file_extension": ".py",
   "mimetype": "text/x-python",
   "name": "python",
   "nbconvert_exporter": "python",
   "pygments_lexer": "ipython3",
   "version": "3.8.13"
  }
 },
 "nbformat": 4,
 "nbformat_minor": 5
}
