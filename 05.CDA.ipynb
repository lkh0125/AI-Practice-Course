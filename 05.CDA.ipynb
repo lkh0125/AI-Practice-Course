{
 "cells": [
  {
   "cell_type": "markdown",
   "id": "4978773f-45b8-4f27-9ff7-cb7b3d8db63e",
   "metadata": {},
   "source": [
    "## CDA(Confirmatory Data Analysis)\n",
    "- 어떤 현상이 '우연'인지 그렇지 않은지를 확인하기 위함"
   ]
  },
  {
   "cell_type": "code",
   "execution_count": 1,
   "id": "206e7dd6-e1be-4e82-a6d6-a05d44f95dae",
   "metadata": {},
   "outputs": [],
   "source": [
    "import scipy.stats as spst\n",
    "import numpy as np\n",
    "import matplotlib.pyplot as plt\n",
    "import pandas as pd\n",
    "import seaborn as sns"
   ]
  },
  {
   "cell_type": "markdown",
   "id": "3d356438-258b-4c3d-aae3-374dbc19ccf1",
   "metadata": {},
   "source": [
    "## Comparative Type Test\n",
    "### One Sample T-Test\n",
    "- 샘플 A의 평균이 x와 다른가? - p-value가 낮으면 '다르다!'\n",
    "- 귀무가설 : 같다\n",
    "- 대립가설 : 다르다"
   ]
  },
  {
   "cell_type": "code",
   "execution_count": null,
   "id": "77d20e82-cca5-4b62-bec6-d75249c6ba7f",
   "metadata": {},
   "outputs": [],
   "source": [
    "spst.ttest_1samp(A, popmean = 5)"
   ]
  },
  {
   "cell_type": "markdown",
   "id": "86653728-7ad5-4482-b436-2da9a4ddbe91",
   "metadata": {},
   "source": [
    "###### Ttest_1sampResult(statistic=5.810272049873847, pvalue=1.013619414110334e-08)\n",
    "\n",
    "##### pvalue : 1.013619414110334e-08\n",
    "\n",
    "- 정직한 설명 : 귀무가설이 참이라는 전제하에 이렇게 데이터가 관찰될 확률이 0.0....01%정도라는 뜻이다.\n",
    "- 발칙한 설명 : 기존 배너보다 나을 확률이 99%를 넘는다는 뜻이다.<br>\n",
    "\n",
    "##### statistic : 5.810272049873847\n",
    "\n",
    "- 신호/노이즈가 5.8, 즉 신호가 노이즈보다 5.8배 높다는 뜻"
   ]
  },
  {
   "cell_type": "markdown",
   "id": "86035df4-feda-4d09-9859-06abda5457c9",
   "metadata": {},
   "source": [
    "### Two Sample T-Test\n",
    "\n",
    "- A와 B가 다른가? p-value가 낮으면 '다르다'!"
   ]
  },
  {
   "cell_type": "code",
   "execution_count": null,
   "id": "f616ce65-e591-4695-8edc-ed0987821e43",
   "metadata": {},
   "outputs": [],
   "source": [
    "spst.ttest_ind(A, B, equal_var=False) # equal_var는 등분산 여부인데, 모르면 False"
   ]
  },
  {
   "cell_type": "markdown",
   "id": "9a5817e9-7e99-4288-ac06-0d76fcff39d5",
   "metadata": {},
   "source": [
    "###### Ttest_indResult(statistic=-8.566294220690699, pvalue=1.1454883039955057e-17)"
   ]
  },
  {
   "cell_type": "markdown",
   "id": "5a71eeb6-75a1-4902-8ade-d39e4674c02e",
   "metadata": {},
   "source": [
    "### Paired T-Test\n",
    "\n",
    "- 한 집단에서 전-후 비교(Before-After) - 당연히 p-value 낮으면 다른 것"
   ]
  },
  {
   "cell_type": "code",
   "execution_count": null,
   "id": "98cd2a5b-1b55-4c28-8b14-b33571fdc1c3",
   "metadata": {},
   "outputs": [],
   "source": [
    "plt.subplot(1,2,1)\n",
    "weight['before'].plot(kind = 'box', ylim = (50,100))\n",
    "\n",
    "plt.subplot(1,2,2)\n",
    "weight['after'].plot(kind = 'box', ylim = (50,100))"
   ]
  },
  {
   "cell_type": "code",
   "execution_count": null,
   "id": "28ead3da-fdbe-41f8-8da9-17a71ff1479c",
   "metadata": {},
   "outputs": [],
   "source": [
    "spst.ttest_rel(before, after) # 얘가 Paried t-test"
   ]
  },
  {
   "cell_type": "markdown",
   "id": "54463a63-b082-4b98-863b-925d4c260f65",
   "metadata": {},
   "source": [
    "###### Ttest_relResult(statistic=5.755395332208213, pvalue=3.1221904501479888e-06)"
   ]
  },
  {
   "cell_type": "code",
   "execution_count": null,
   "id": "7214fc40-af58-4ab5-b5e1-f966e5467796",
   "metadata": {},
   "outputs": [],
   "source": [
    "before.mean() - after.mean()"
   ]
  },
  {
   "cell_type": "markdown",
   "id": "6ae0e194-d8a3-4a7b-90fa-5b5e4acb5d07",
   "metadata": {},
   "source": [
    "###### 3.5173255495705575"
   ]
  },
  {
   "cell_type": "markdown",
   "id": "f1b8a4e9-8339-41b1-ae8d-33546b04d9a7",
   "metadata": {},
   "source": [
    "## ANOVA(Analysis of Variance)\n",
    "\n",
    "귀무가설 : A,B,C 다 똑같다<br>\n",
    "대립가설 : A,B,C 중 '무언가 하나는' 다를 것이다.<br>\n",
    "\n",
    "대립가설 조심, A, B, C 중 뭐가 다르고, 얼마나 다르고 등은 전혀 알 수 없다. 따로 계산해야 한다."
   ]
  },
  {
   "cell_type": "code",
   "execution_count": null,
   "id": "cee88dd3-a923-406b-8e55-04aa59d2c4a0",
   "metadata": {},
   "outputs": [],
   "source": [
    "spst.f_oneway(A, B, C) # 얘가 ANOVA"
   ]
  },
  {
   "cell_type": "markdown",
   "id": "ac31b442-bba2-420e-b056-f176cef74751",
   "metadata": {},
   "source": [
    "###### F_onewayResult(statistic=3.98971736112853, pvalue=0.018537692867904416)"
   ]
  },
  {
   "cell_type": "markdown",
   "id": "4b7c455a-d8b8-49e5-8f1e-1acff84f121e",
   "metadata": {},
   "source": [
    "정석적인 해석 : 귀무가설이 참일 때, 이러한 데이터가 관측될 확률은 1.85% 정도이다. (1.85%확률을 뚫고 이런 데이터가 관측될 수도 있다.)\n",
    "발칙한 해석 : 뭔가 하나는 차이가 날 확률이 98%는 넘는다."
   ]
  },
  {
   "cell_type": "markdown",
   "id": "fbc5e1ca-4fa2-4f52-bef3-1ee78dd57e6c",
   "metadata": {},
   "source": [
    "## Assosiative Type Test\n",
    "\n",
    "### Correlation Coefficient\n",
    "\n",
    "귀무가설 : X와 Y는 상관이 없다.(상관계수 = 0)<br>\n",
    "대립가설 : 상관계수가 0이 아니다."
   ]
  },
  {
   "cell_type": "markdown",
   "id": "094b1cfb-349b-4773-aa4b-bf5ef0ab4878",
   "metadata": {},
   "source": [
    "- X와 Y를 별도로 시각화 해 볼 것"
   ]
  },
  {
   "cell_type": "code",
   "execution_count": null,
   "id": "a40fff42-c36f-4a73-a728-ddef83ebce7e",
   "metadata": {},
   "outputs": [],
   "source": [
    "spst.pearsonr(X, Y) # X와 Y의 상관계수와 p-value"
   ]
  },
  {
   "cell_type": "markdown",
   "id": "0dfb79e3-2434-42bc-9e26-026f0f41b6a1",
   "metadata": {},
   "source": [
    "###### (0.5907805070828731, 9.790270530287291e-11)"
   ]
  },
  {
   "cell_type": "markdown",
   "id": "c96fcbd6-30c1-4cfa-ba16-b8a5451a97df",
   "metadata": {},
   "source": [
    "- 결과는 튜플로 나오는데\n",
    "\n",
    "1.튜플의 첫 번째 값 : 상관계수를 뜻한다. 두 데이터의 선형성의 정도를 나타낸다.<br>\n",
    "2.p-value는 상관계수가 우연에 의해 일어나진 않았는지 판단한다.\n",
    "- 귀무가설 : 상관 계수가 0이다.\n",
    "- 대립가설 : 상관 계수가 0이 아니다."
   ]
  },
  {
   "cell_type": "code",
   "execution_count": null,
   "id": "a4d467d0-cdf2-4f70-a56d-eb2b1c59236b",
   "metadata": {},
   "outputs": [],
   "source": []
  }
 ],
 "metadata": {
  "kernelspec": {
   "display_name": "Python 3 (ipykernel)",
   "language": "python",
   "name": "python3"
  },
  "language_info": {
   "codemirror_mode": {
    "name": "ipython",
    "version": 3
   },
   "file_extension": ".py",
   "mimetype": "text/x-python",
   "name": "python",
   "nbconvert_exporter": "python",
   "pygments_lexer": "ipython3",
   "version": "3.8.13"
  }
 },
 "nbformat": 4,
 "nbformat_minor": 5
}
